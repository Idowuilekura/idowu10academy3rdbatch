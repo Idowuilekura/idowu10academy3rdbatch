{
  "nbformat": 4,
  "nbformat_minor": 0,
  "metadata": {
    "kernelspec": {
      "display_name": "Python 3",
      "language": "python",
      "name": "python3"
    },
    "language_info": {
      "codemirror_mode": {
        "name": "ipython",
        "version": 3
      },
      "file_extension": ".py",
      "mimetype": "text/x-python",
      "name": "python",
      "nbconvert_exporter": "python",
      "pygments_lexer": "ipython3",
      "version": "3.7.6"
    },
    "colab": {
      "name": "Copy of idowu scrapping notebook.ipynb",
      "provenance": [],
      "collapsed_sections": [],
      "include_colab_link": true
    }
  },
  "cells": [
    {
      "cell_type": "markdown",
      "metadata": {
        "id": "view-in-github",
        "colab_type": "text"
      },
      "source": [
        "<a href=\"https://colab.research.google.com/github/Idowuilekura/idowu10academy3rdbatch/blob/master/Copy_of_idowu_scrapping_notebook.ipynb\" target=\"_parent\"><img src=\"https://colab.research.google.com/assets/colab-badge.svg\" alt=\"Open In Colab\"/></a>"
      ]
    },
    {
      "cell_type": "markdown",
      "metadata": {
        "id": "LqTO6FK3eLBF",
        "colab_type": "text"
      },
      "source": [
        "## Web scrapping using python\n",
        "\n",
        "#### References\n",
        "1. [Practical Introduction to Web Scraping in Python](https://realpython.com/python-web-scraping-practical-introduction/)\n",
        "2. [Web Scraping using Python](https://www.datacamp.com/community/tutorials/web-scraping-using-python)"
      ]
    },
    {
      "cell_type": "code",
      "metadata": {
        "id": "VHH2PuGReLBH",
        "colab_type": "code",
        "colab": {}
      },
      "source": [
        "# $ python3 -m venv venv\n",
        "# $ . ./venv/bin/activate"
      ],
      "execution_count": 1,
      "outputs": []
    },
    {
      "cell_type": "code",
      "metadata": {
        "id": "k7qN6lTYeLBP",
        "colab_type": "code",
        "colab": {
          "base_uri": "https://localhost:8080/",
          "height": 356
        },
        "outputId": "df954f2a-4204-455c-97d5-d2db5980dbcc"
      },
      "source": [
        "#Better\n",
        "!pip install requests BeautifulSoup4 fire"
      ],
      "execution_count": 2,
      "outputs": [
        {
          "output_type": "stream",
          "text": [
            "Requirement already satisfied: requests in /usr/local/lib/python3.6/dist-packages (2.23.0)\n",
            "Requirement already satisfied: BeautifulSoup4 in /usr/local/lib/python3.6/dist-packages (4.6.3)\n",
            "Collecting fire\n",
            "\u001b[?25l  Downloading https://files.pythonhosted.org/packages/34/a7/0e22e70778aca01a52b9c899d9c145c6396d7b613719cd63db97ffa13f2f/fire-0.3.1.tar.gz (81kB)\n",
            "\r\u001b[K     |████                            | 10kB 16.8MB/s eta 0:00:01\r\u001b[K     |████████                        | 20kB 1.8MB/s eta 0:00:01\r\u001b[K     |████████████▏                   | 30kB 2.2MB/s eta 0:00:01\r\u001b[K     |████████████████▏               | 40kB 2.5MB/s eta 0:00:01\r\u001b[K     |████████████████████▏           | 51kB 2.0MB/s eta 0:00:01\r\u001b[K     |████████████████████████▎       | 61kB 2.3MB/s eta 0:00:01\r\u001b[K     |████████████████████████████▎   | 71kB 2.5MB/s eta 0:00:01\r\u001b[K     |████████████████████████████████| 81kB 2.1MB/s \n",
            "\u001b[?25hRequirement already satisfied: chardet<4,>=3.0.2 in /usr/local/lib/python3.6/dist-packages (from requests) (3.0.4)\n",
            "Requirement already satisfied: idna<3,>=2.5 in /usr/local/lib/python3.6/dist-packages (from requests) (2.10)\n",
            "Requirement already satisfied: urllib3!=1.25.0,!=1.25.1,<1.26,>=1.21.1 in /usr/local/lib/python3.6/dist-packages (from requests) (1.24.3)\n",
            "Requirement already satisfied: certifi>=2017.4.17 in /usr/local/lib/python3.6/dist-packages (from requests) (2020.6.20)\n",
            "Requirement already satisfied: six in /usr/local/lib/python3.6/dist-packages (from fire) (1.12.0)\n",
            "Requirement already satisfied: termcolor in /usr/local/lib/python3.6/dist-packages (from fire) (1.1.0)\n",
            "Building wheels for collected packages: fire\n",
            "  Building wheel for fire (setup.py) ... \u001b[?25l\u001b[?25hdone\n",
            "  Created wheel for fire: filename=fire-0.3.1-py2.py3-none-any.whl size=111005 sha256=af98e583cb9f3842c596c528fe046f1da5ecb81bc87eb84bda8a0b84b3184dc6\n",
            "  Stored in directory: /root/.cache/pip/wheels/c1/61/df/768b03527bf006b546dce284eb4249b185669e65afc5fbb2ac\n",
            "Successfully built fire\n",
            "Installing collected packages: fire\n",
            "Successfully installed fire-0.3.1\n"
          ],
          "name": "stdout"
        }
      ]
    },
    {
      "cell_type": "code",
      "metadata": {
        "id": "h3Rxsz5YeLBW",
        "colab_type": "code",
        "colab": {}
      },
      "source": [
        "from requests import get\n",
        "from requests.exceptions import RequestException\n",
        "from contextlib import closing\n",
        "from bs4 import BeautifulSoup\n",
        "import pandas as pd\n",
        "import os, sys\n",
        "from tweepy import Cursor\n",
        "from datetime import datetime,date,time,timedelta\n",
        "import fire"
      ],
      "execution_count": 3,
      "outputs": []
    },
    {
      "cell_type": "code",
      "metadata": {
        "id": "UmuUHNoheLBl",
        "colab_type": "code",
        "colab": {}
      },
      "source": [
        "#%%writefile ../pyscrap_url.py\n",
        "\n",
        "def simple_get(url):\n",
        "    \"\"\"\n",
        "    Attempts to get the content at `url` by making an HTTP GET request.\n",
        "    If the content-type of response is some kind of HTML/XML, return the\n",
        "    text content, otherwise return None.\n",
        "    \"\"\"\n",
        "    try:\n",
        "        with closing(get(url, stream=True)) as resp:\n",
        "            if is_good_response(resp):\n",
        "                return resp.content  #.encode(BeautifulSoup.original_encoding)\n",
        "            else:\n",
        "                return None\n",
        "\n",
        "    except RequestException as e:\n",
        "        log_error('Error during requests to {0} : {1}'.format(url, str(e)))\n",
        "        return None\n",
        "\n",
        "\n",
        "def is_good_response(resp):\n",
        "    \"\"\"\n",
        "    Returns True if the response seems to be HTML, False otherwise.\n",
        "    \"\"\"\n",
        "    content_type = resp.headers['Content-Type'].lower()\n",
        "    return (resp.status_code == 200 \n",
        "            and content_type is not None \n",
        "            and content_type.find('html') > -1)\n",
        "\n",
        "\n",
        "def log_error(e):\n",
        "    \"\"\"\n",
        "    It is always a good idea to log errors. \n",
        "    This function just prints them, but you can\n",
        "    make it do anything.\n",
        "    \"\"\"\n",
        "    print(e)\n",
        "    \n",
        "def get_elements(url, tag='',search={}, fname=None):\n",
        "    \"\"\"\n",
        "    Downloads a page specified by the url parameter\n",
        "    and returns a list of strings, one per tag element\n",
        "    \"\"\"\n",
        "    \n",
        "    if isinstance(url,str):\n",
        "        response = simple_get(url)\n",
        "    else:\n",
        "        #if already it is a loaded html page\n",
        "        response = url\n",
        "\n",
        "    if response is not None:\n",
        "        html = BeautifulSoup(response, 'html.parser')\n",
        "        \n",
        "        res = []\n",
        "        if tag:    \n",
        "            for li in html.select(tag):\n",
        "                for name in li.text.split('\\n'):\n",
        "                    if len(name) > 0:\n",
        "                        res.append(name.strip())\n",
        "                       \n",
        "                \n",
        "        if search:\n",
        "            soup = html            \n",
        "            \n",
        "            \n",
        "            r = ''\n",
        "            if 'find' in search.keys():\n",
        "                print('findaing',search['find'])\n",
        "                soup = soup.find(**search['find'])\n",
        "                r = soup\n",
        "\n",
        "                \n",
        "            if 'find_all' in search.keys():\n",
        "                print('findaing all of',search['find_all'])\n",
        "                r = soup.find_all(**search['find_all'])\n",
        "   \n",
        "            if r:\n",
        "                for x in list(r):\n",
        "                    if len(x) > 0:\n",
        "                        res.extend(x)\n",
        "            \n",
        "        return res\n",
        "\n",
        "    # Raise an exception if we failed to get any data from the url\n",
        "    raise Exception('Error retrieving contents at {}'.format(url))    \n",
        "    \n",
        "    \n",
        "if get_ipython().__class__.__name__ == '__main__':\n",
        "    fire(get_tag_elements)"
      ],
      "execution_count": 4,
      "outputs": []
    },
    {
      "cell_type": "code",
      "metadata": {
        "jupyter": {
          "outputs_hidden": true
        },
        "id": "8BsS3bM9eLBs",
        "colab_type": "code",
        "colab": {}
      },
      "source": [
        "#res = get_tag_elements('https://africafreak.com/100-most-influential-twitter-users-in-africa')\n",
        "#res"
      ],
      "execution_count": 5,
      "outputs": []
    },
    {
      "cell_type": "code",
      "metadata": {
        "id": "8S0ZX6ayeLBx",
        "colab_type": "code",
        "colab": {}
      },
      "source": [
        "url= 'https://www.atlanticcouncil.org/blogs/africasource/african-leaders-respond-to-coronavirus-on-twitter/#east-africa'\n",
        "response = simple_get(url)"
      ],
      "execution_count": 6,
      "outputs": []
    },
    {
      "cell_type": "code",
      "metadata": {
        "id": "U_4lJolheLB3",
        "colab_type": "code",
        "colab": {
          "base_uri": "https://localhost:8080/",
          "height": 34
        },
        "outputId": "f060dbc6-ef22-4598-e984-969bb40c9819"
      },
      "source": [
        "res = get_elements(response, search={'find_all':{'class_':'wp-block-embed__wrapper'}})"
      ],
      "execution_count": 7,
      "outputs": [
        {
          "output_type": "stream",
          "text": [
            "findaing all of {'class_': 'wp-block-embed__wrapper'}\n"
          ],
          "name": "stdout"
        }
      ]
    },
    {
      "cell_type": "code",
      "metadata": {
        "id": "O8ez-0JteLB_",
        "colab_type": "code",
        "colab": {
          "base_uri": "https://localhost:8080/",
          "height": 54
        },
        "outputId": "b4262213-2407-41ce-fda8-34e9a853e4a8"
      },
      "source": [
        "import re\n",
        "empty_list = []\n",
        "for i in res:\n",
        "    str_i = str(i)\n",
        "    extract = re.findall(r\"\\(@\\w+\\)\",str_i)\n",
        "    empty_list.append(extract)\n",
        "#print(empty_list)\n",
        "another_list = []\n",
        "for i in empty_list:\n",
        "    if len(i) !=0:\n",
        "        another_list.append(i)\n",
        "another_list\n",
        "final_list = []\n",
        "for i in another_list:\n",
        "    remove_element=i[0]\n",
        "    remove_firbrac = remove_element.replace(\"(\",\"\")\n",
        "    remove_secondbrac = remove_firbrac.replace(\")\",\"\")\n",
        "    final_list.append(remove_secondbrac)\n",
        "#print(final_list)\n",
        "ten_top_leaders = final_list[:10]\n",
        "print(ten_top_leaders)\n",
        "import pandas as pd\n",
        "ten_top_series = pd.Series(ten_top_leaders)\n",
        "ten_top_series.to_csv(\"ten_top_africa_leaders_handles\",encoding='utf-8',index=False)"
      ],
      "execution_count": 8,
      "outputs": [
        {
          "output_type": "stream",
          "text": [
            "['@EswatiniGovern1', '@MalawiGovt', '@hagegeingob', '@FinanceSC', '@PresidencyZA', '@mohzambia', '@edmnangagwa', '@MinSantedj', '@hawelti', '@StateHouseKenya']\n"
          ],
          "name": "stdout"
        }
      ]
    },
    {
      "cell_type": "code",
      "metadata": {
        "id": "EY_fU8JyeLCI",
        "colab_type": "code",
        "colab": {
          "base_uri": "https://localhost:8080/",
          "height": 34
        },
        "outputId": "b386c2fe-0a1e-4385-a020-946ea8a049d2"
      },
      "source": [
        "africa_heads_handle = [\"@ukenyatta\",\"@paulkagame\",\"@alsisiofficial\",\"@mbuhari\",\"@KagutaMuseveni\",\"@sappresident\",\"@NakufoAddo\",\"@magufulijp\",\"@adosolutions\",\"@macky_sall\"]\n",
        "africa_leaders = []\n",
        "for i in africa_heads_handle:\n",
        "    for b in final_list:\n",
        "        if i.lower() == b.lower():\n",
        "            africa_leaders.append(i)\n",
        "\n",
        "print(africa_leaders)"
      ],
      "execution_count": 9,
      "outputs": [
        {
          "output_type": "stream",
          "text": [
            "['@paulkagame', '@mbuhari', '@KagutaMuseveni', '@NakufoAddo', '@macky_sall']\n"
          ],
          "name": "stdout"
        }
      ]
    },
    {
      "cell_type": "code",
      "metadata": {
        "id": "fLiTD0_FeLCM",
        "colab_type": "code",
        "colab": {
          "base_uri": "https://localhost:8080/",
          "height": 125
        },
        "outputId": "7126fa32-37f6-4e38-acf3-bde693c8ea3c"
      },
      "source": [
        "from google.colab import drive\n",
        "drive.mount('/content/drive')"
      ],
      "execution_count": 10,
      "outputs": [
        {
          "output_type": "stream",
          "text": [
            "Go to this URL in a browser: https://accounts.google.com/o/oauth2/auth?client_id=947318989803-6bn6qk8qdgf4n4g3pfee6491hc0brc4i.apps.googleusercontent.com&redirect_uri=urn%3aietf%3awg%3aoauth%3a2.0%3aoob&response_type=code&scope=email%20https%3a%2f%2fwww.googleapis.com%2fauth%2fdocs.test%20https%3a%2f%2fwww.googleapis.com%2fauth%2fdrive%20https%3a%2f%2fwww.googleapis.com%2fauth%2fdrive.photos.readonly%20https%3a%2f%2fwww.googleapis.com%2fauth%2fpeopleapi.readonly\n",
            "\n",
            "Enter your authorization code:\n",
            "··········\n",
            "Mounted at /content/drive\n"
          ],
          "name": "stdout"
        }
      ]
    },
    {
      "cell_type": "code",
      "metadata": {
        "id": "NcFfEMQKizmc",
        "colab_type": "code",
        "colab": {}
      },
      "source": [
        "import json\n",
        "with open('/content/drive/My Drive/data_science_project/twitter_credentials.json') as file:\n",
        "  cred =json.load(file)\n",
        "import tweepy\n",
        "auth = tweepy.OAuthHandler(cred[\"CONSUMER_KEY\"],cred[\"CONSUMER_SECRET\"])\n",
        "auth.set_access_token(cred[\"ACCESS_TOKEN\"],cred[\"ACCESS_SECRET\"])\n",
        "api = tweepy.API(auth,wait_on_rate_limit=True)"
      ],
      "execution_count": 11,
      "outputs": []
    },
    {
      "cell_type": "code",
      "metadata": {
        "id": "rlLOpcqrmF_E",
        "colab_type": "code",
        "colab": {
          "base_uri": "https://localhost:8080/",
          "height": 54
        },
        "outputId": "8e90e3a0-a5ea-4570-b46f-a92d10648543"
      },
      "source": [
        "print(final_list)"
      ],
      "execution_count": 12,
      "outputs": [
        {
          "output_type": "stream",
          "text": [
            "['@EswatiniGovern1', '@MalawiGovt', '@hagegeingob', '@FinanceSC', '@PresidencyZA', '@mohzambia', '@edmnangagwa', '@MinSantedj', '@hawelti', '@StateHouseKenya', '@PaulKagame', '@M_Farmaajo', '@SouthSudanGov', '@SudanPMHamdok', '@TZSpokesperson', '@KagutaMuseveni', '@angola_Mirex', '@willynyamitwe', '@Cherif_MZ', '@Presidence_RDC', '@PresidentABO', '@PresidenceBenin', '@rochkaborepf', '@PresidenciaCV', '@AOuattara_PRCI', '@Presidency_GMB', '@NAkufoAddo', '@President_GN', '@USEmbalo', '@PresidenceMali', '@CheikhGhazouani', '@IssoufouMhm', '@MBuhari', '@Macky_Sall', '@PresidentBio', '@MSPS_Togo']\n"
          ],
          "name": "stdout"
        }
      ]
    },
    {
      "cell_type": "code",
      "metadata": {
        "id": "6CVJXqqjlCXF",
        "colab_type": "code",
        "colab": {}
      },
      "source": [
        "numbers_of_tweet = {'twitter_handle':[],\"number_tweet\":[],\"number_of_followers\":[],\"number_of_following\":[],\"number_of_likes\":[],\"average_tweets_per_day\":[],\"account_age\":[],\"number_of_mentions\":[],\"hashtags\":[]}\n",
        "for twitter_handle in final_list:\n",
        "  numbers_of_tweet[\"twitter_handle\"].append(twitter_handle)\n",
        "  numbers_of_tweet[\"number_tweet\"].append(api.get_user(twitter_handle).statuses_count)\n"
      ],
      "execution_count": 13,
      "outputs": []
    },
    {
      "cell_type": "code",
      "metadata": {
        "id": "OhgcCqelm2Fj",
        "colab_type": "code",
        "colab": {}
      },
      "source": [
        "for i in final_list:\n",
        "  user = api.get_user(i)\n",
        "  user_followers = user.followers_count\n",
        "  numbers_of_tweet[\"number_of_followers\"].append(user_followers)\n"
      ],
      "execution_count": 14,
      "outputs": []
    },
    {
      "cell_type": "code",
      "metadata": {
        "id": "3pzb3gsApd4v",
        "colab_type": "code",
        "colab": {
          "base_uri": "https://localhost:8080/",
          "height": 54
        },
        "outputId": "4c0d219a-fd51-4db0-ba6b-a956612c7cdd"
      },
      "source": [
        "print(numbers_of_tweet['number_of_followers'])"
      ],
      "execution_count": 15,
      "outputs": [
        {
          "output_type": "stream",
          "text": [
            "[11352, 39430, 192774, 127, 1600977, 7211, 547553, 2937, 66501, 1105403, 1988358, 425268, 2565, 372141, 4042, 1817077, 3274, 107491, 18799, 342008, 173943, 30237, 256768, 3291, 834846, 10798, 1511141, 741, 8483, 229265, 31843, 116541, 3276245, 1377585, 15093, 1134]\n"
          ],
          "name": "stdout"
        }
      ]
    },
    {
      "cell_type": "code",
      "metadata": {
        "id": "ITftSJ4vqj-R",
        "colab_type": "code",
        "colab": {
          "base_uri": "https://localhost:8080/",
          "height": 34
        },
        "outputId": "a76ce0a5-1793-4185-eb57-61c1bf2ab223"
      },
      "source": [
        "for twitter_handle in final_list:\n",
        "  user = api.get_user(twitter_handle)\n",
        "  user_following = user.friends_count\n",
        "  numbers_of_tweet[\"number_of_following\"].append(user_following)\n",
        "\n",
        "print(api.get_user('@mbuhari').friends_count)"
      ],
      "execution_count": 16,
      "outputs": [
        {
          "output_type": "stream",
          "text": [
            "26\n"
          ],
          "name": "stdout"
        }
      ]
    },
    {
      "cell_type": "code",
      "metadata": {
        "id": "3SbZOkFXyvGT",
        "colab_type": "code",
        "colab": {
          "base_uri": "https://localhost:8080/",
          "height": 54
        },
        "outputId": "f0d636d6-725b-4802-b245-a758bd20ced3"
      },
      "source": [
        "buhari=api.get_user('mbuhari')\n",
        "buhari"
      ],
      "execution_count": 17,
      "outputs": [
        {
          "output_type": "execute_result",
          "data": {
            "text/plain": [
              "User(_api=<tweepy.api.API object at 0x7ff3fb185f98>, _json={'id': 2936714848, 'id_str': '2936714848', 'name': 'Muhammadu Buhari', 'screen_name': 'MBuhari', 'location': '', 'profile_location': None, 'description': 'This is the official account of Muhammadu Buhari, President of Nigeria', 'url': None, 'entities': {'description': {'urls': []}}, 'protected': False, 'followers_count': 3276245, 'friends_count': 26, 'listed_count': 1650, 'created_at': 'Mon Dec 22 08:56:35 +0000 2014', 'favourites_count': 8, 'utc_offset': None, 'time_zone': None, 'geo_enabled': False, 'verified': True, 'statuses_count': 4737, 'lang': None, 'status': {'created_at': 'Mon Jul 20 18:36:46 +0000 2020', 'id': 1285282517600407554, 'id_str': '1285282517600407554', 'text': 'King Salman is a true friend of Nigeria who has never failed to identify with us at all times through important col… https://t.co/Sa8NHg6FYf', 'truncated': True, 'entities': {'hashtags': [], 'symbols': [], 'user_mentions': [], 'urls': [{'url': 'https://t.co/Sa8NHg6FYf', 'expanded_url': 'https://twitter.com/i/web/status/1285282517600407554', 'display_url': 'twitter.com/i/web/status/1…', 'indices': [117, 140]}]}, 'source': '<a href=\"http://twitter.com/download/iphone\" rel=\"nofollow\">Twitter for iPhone</a>', 'in_reply_to_status_id': 1285282383961501700, 'in_reply_to_status_id_str': '1285282383961501700', 'in_reply_to_user_id': 2936714848, 'in_reply_to_user_id_str': '2936714848', 'in_reply_to_screen_name': 'MBuhari', 'geo': None, 'coordinates': None, 'place': None, 'contributors': None, 'is_quote_status': False, 'retweet_count': 255, 'favorite_count': 1625, 'favorited': False, 'retweeted': False, 'lang': 'en'}, 'contributors_enabled': False, 'is_translator': False, 'is_translation_enabled': False, 'profile_background_color': 'C0DEED', 'profile_background_image_url': 'http://abs.twimg.com/images/themes/theme1/bg.png', 'profile_background_image_url_https': 'https://abs.twimg.com/images/themes/theme1/bg.png', 'profile_background_tile': False, 'profile_image_url': 'http://pbs.twimg.com/profile_images/1048725343161528325/nyjNvg-l_normal.jpg', 'profile_image_url_https': 'https://pbs.twimg.com/profile_images/1048725343161528325/nyjNvg-l_normal.jpg', 'profile_link_color': '1DA1F2', 'profile_sidebar_border_color': 'C0DEED', 'profile_sidebar_fill_color': 'DDEEF6', 'profile_text_color': '333333', 'profile_use_background_image': True, 'has_extended_profile': False, 'default_profile': True, 'default_profile_image': False, 'following': True, 'follow_request_sent': False, 'notifications': False, 'translator_type': 'none'}, id=2936714848, id_str='2936714848', name='Muhammadu Buhari', screen_name='MBuhari', location='', profile_location=None, description='This is the official account of Muhammadu Buhari, President of Nigeria', url=None, entities={'description': {'urls': []}}, protected=False, followers_count=3276245, friends_count=26, listed_count=1650, created_at=datetime.datetime(2014, 12, 22, 8, 56, 35), favourites_count=8, utc_offset=None, time_zone=None, geo_enabled=False, verified=True, statuses_count=4737, lang=None, status=Status(_api=<tweepy.api.API object at 0x7ff3fb185f98>, _json={'created_at': 'Mon Jul 20 18:36:46 +0000 2020', 'id': 1285282517600407554, 'id_str': '1285282517600407554', 'text': 'King Salman is a true friend of Nigeria who has never failed to identify with us at all times through important col… https://t.co/Sa8NHg6FYf', 'truncated': True, 'entities': {'hashtags': [], 'symbols': [], 'user_mentions': [], 'urls': [{'url': 'https://t.co/Sa8NHg6FYf', 'expanded_url': 'https://twitter.com/i/web/status/1285282517600407554', 'display_url': 'twitter.com/i/web/status/1…', 'indices': [117, 140]}]}, 'source': '<a href=\"http://twitter.com/download/iphone\" rel=\"nofollow\">Twitter for iPhone</a>', 'in_reply_to_status_id': 1285282383961501700, 'in_reply_to_status_id_str': '1285282383961501700', 'in_reply_to_user_id': 2936714848, 'in_reply_to_user_id_str': '2936714848', 'in_reply_to_screen_name': 'MBuhari', 'geo': None, 'coordinates': None, 'place': None, 'contributors': None, 'is_quote_status': False, 'retweet_count': 255, 'favorite_count': 1625, 'favorited': False, 'retweeted': False, 'lang': 'en'}, created_at=datetime.datetime(2020, 7, 20, 18, 36, 46), id=1285282517600407554, id_str='1285282517600407554', text='King Salman is a true friend of Nigeria who has never failed to identify with us at all times through important col… https://t.co/Sa8NHg6FYf', truncated=True, entities={'hashtags': [], 'symbols': [], 'user_mentions': [], 'urls': [{'url': 'https://t.co/Sa8NHg6FYf', 'expanded_url': 'https://twitter.com/i/web/status/1285282517600407554', 'display_url': 'twitter.com/i/web/status/1…', 'indices': [117, 140]}]}, source='Twitter for iPhone', source_url='http://twitter.com/download/iphone', in_reply_to_status_id=1285282383961501700, in_reply_to_status_id_str='1285282383961501700', in_reply_to_user_id=2936714848, in_reply_to_user_id_str='2936714848', in_reply_to_screen_name='MBuhari', geo=None, coordinates=None, place=None, contributors=None, is_quote_status=False, retweet_count=255, favorite_count=1625, favorited=False, retweeted=False, lang='en'), contributors_enabled=False, is_translator=False, is_translation_enabled=False, profile_background_color='C0DEED', profile_background_image_url='http://abs.twimg.com/images/themes/theme1/bg.png', profile_background_image_url_https='https://abs.twimg.com/images/themes/theme1/bg.png', profile_background_tile=False, profile_image_url='http://pbs.twimg.com/profile_images/1048725343161528325/nyjNvg-l_normal.jpg', profile_image_url_https='https://pbs.twimg.com/profile_images/1048725343161528325/nyjNvg-l_normal.jpg', profile_link_color='1DA1F2', profile_sidebar_border_color='C0DEED', profile_sidebar_fill_color='DDEEF6', profile_text_color='333333', profile_use_background_image=True, has_extended_profile=False, default_profile=True, default_profile_image=False, following=True, follow_request_sent=False, notifications=False, translator_type='none')"
            ]
          },
          "metadata": {
            "tags": []
          },
          "execution_count": 17
        }
      ]
    },
    {
      "cell_type": "code",
      "metadata": {
        "id": "Jc9ep7wV1UnU",
        "colab_type": "code",
        "colab": {}
      },
      "source": [
        "for twitter_handle in final_list:\n",
        "  user= api.get_user(twitter_handle)\n",
        "  number_of_users_tweets = user.statuses_count\n",
        "  account_created_date = user.created_at\n",
        "  delta = datetime.utcnow()-account_created_date\n",
        "  account_age_days =delta.days\n",
        "  numbers_of_tweet['account_age'].append(account_created_date)\n",
        "  # get the utc of time of created account\n",
        "  if account_age_days>0:\n",
        "    average_tweets_per_day = float(number_of_users_tweets)/float(account_age_days)\n",
        "    numbers_of_tweet['average_tweets_per_day'].append(round(average_tweets_per_day,1))\n",
        "  "
      ],
      "execution_count": 18,
      "outputs": []
    },
    {
      "cell_type": "code",
      "metadata": {
        "id": "ZprCpowyqHnz",
        "colab_type": "code",
        "colab": {
          "base_uri": "https://localhost:8080/",
          "height": 34
        },
        "outputId": "51971cbc-3bcb-4f72-f06c-d43f16734c5f"
      },
      "source": [
        "print(len(numbers_of_tweet['account_age']))"
      ],
      "execution_count": 19,
      "outputs": [
        {
          "output_type": "stream",
          "text": [
            "36\n"
          ],
          "name": "stdout"
        }
      ]
    },
    {
      "cell_type": "code",
      "metadata": {
        "id": "uZKt3CTnfsAu",
        "colab_type": "code",
        "colab": {}
      },
      "source": [
        "import numpy as np"
      ],
      "execution_count": 20,
      "outputs": []
    },
    {
      "cell_type": "code",
      "metadata": {
        "id": "pp4rOQWbrzJo",
        "colab_type": "code",
        "colab": {}
      },
      "source": [
        "def mentions_and_hashtags(user):\n",
        "  hashtags = []\n",
        "  mentions = []\n",
        "  end_date = datetime.utcnow()-timedelta(days=30)\n",
        "  for status in tweepy.Cursor(api.user_timeline,id=user,q='-filter:retweets').items(30):\n",
        "    if hasattr(status,\"entities\"):\n",
        "      entities = status.entities\n",
        "      if \"hashtags\" in entities:\n",
        "        for ent in entities['hashtags']:\n",
        "          if ent is not None:\n",
        "            if 'text' in ent:\n",
        "              hashtag = ent['text']\n",
        "              if hashtag is not None:\n",
        "                hashtags.append(hashtag)\n",
        "      #mention_count = 0\n",
        "    if \"user_mentions\" in entities:\n",
        "      for ent in entities[\"user_mentions\"]:\n",
        "        if ent is not None:\n",
        "          if \"screen_name\" in ent:\n",
        "            name = ent['screen_name']\n",
        "            if name is not None:\n",
        "             #mention_count += 1\n",
        "              mentions.append(name)\n",
        "    if status.created_at < end_date:\n",
        "      break\n",
        "  return hashtags,len(mentions)\n"
      ],
      "execution_count": 21,
      "outputs": []
    },
    {
      "cell_type": "code",
      "metadata": {
        "id": "5GTxAT1seGHe",
        "colab_type": "code",
        "colab": {}
      },
      "source": [
        "#hashta,ment = mentions_and_hashtags('@idowuilekura')\n",
        "#print(hashta)"
      ],
      "execution_count": 22,
      "outputs": []
    },
    {
      "cell_type": "code",
      "metadata": {
        "id": "UsrbjSBEu2Vm",
        "colab_type": "code",
        "colab": {}
      },
      "source": [
        "for twitter_handles in final_list:\n",
        "  hasht,ment= mentions_and_hashtags(twitter_handles)\n",
        "  numbers_of_tweet['hashtags'].append(hasht)\n",
        "  numbers_of_tweet[\"number_of_mentions\"].append(ment)"
      ],
      "execution_count": 23,
      "outputs": []
    },
    {
      "cell_type": "code",
      "metadata": {
        "id": "mRonOI995cAr",
        "colab_type": "code",
        "colab": {
          "base_uri": "https://localhost:8080/",
          "height": 34
        },
        "outputId": "2b588780-79f4-45e2-cb90-5b9e36f3fa35"
      },
      "source": [
        "print(len(numbers_of_tweet['number_of_mentions']))"
      ],
      "execution_count": 24,
      "outputs": [
        {
          "output_type": "stream",
          "text": [
            "36\n"
          ],
          "name": "stdout"
        }
      ]
    },
    {
      "cell_type": "code",
      "metadata": {
        "id": "Oer8ckOKNtXD",
        "colab_type": "code",
        "colab": {}
      },
      "source": [
        "# likes = 0\n",
        "# for status in Cursor(api.user_timeline,id=\"@idowuilekura\",include_rts=False).items(100):\n",
        "#   likes += status.favorite_count\n",
        "# print(likes)"
      ],
      "execution_count": 25,
      "outputs": []
    },
    {
      "cell_type": "code",
      "metadata": {
        "id": "Ra_YH5hyVnl_",
        "colab_type": "code",
        "colab": {}
      },
      "source": [
        "def likes(user):\n",
        "  likes = 0\n",
        "  for status in Cursor(api.user_timeline,id=user,include_rts=False).items(100):\n",
        "    likes += status.favorite_count\n",
        "  return likes"
      ],
      "execution_count": 26,
      "outputs": []
    },
    {
      "cell_type": "code",
      "metadata": {
        "id": "0iEs8GNxc3on",
        "colab_type": "code",
        "colab": {}
      },
      "source": [
        "for twitter_handle in final_list:\n",
        "  like = likes(twitter_handle)\n",
        "  numbers_of_tweet[\"number_of_likes\"].append(like)"
      ],
      "execution_count": 27,
      "outputs": []
    },
    {
      "cell_type": "code",
      "metadata": {
        "id": "kKyU0UKK-ty3",
        "colab_type": "code",
        "colab": {}
      },
      "source": [
        "#numbers_of_tweet['number_of_likes']\n",
        "def retweet(user):\n",
        "  retweet_ = 0\n",
        "  for status in Cursor(api.user_timeline,id=user,include_rts=False).items(100):\n",
        "    retweet_ += status.retweet_count\n",
        "  return retweet_"
      ],
      "execution_count": 28,
      "outputs": []
    },
    {
      "cell_type": "code",
      "metadata": {
        "id": "o3iHOkN6nCPj",
        "colab_type": "code",
        "colab": {}
      },
      "source": [
        "numbers_of_retweets = []\n",
        "for twitter_handle in final_list:\n",
        "  retweet1 = retweet(twitter_handle)\n",
        "  numbers_of_retweets.append(retweet1)"
      ],
      "execution_count": 29,
      "outputs": []
    },
    {
      "cell_type": "code",
      "metadata": {
        "id": "ScoxIROQoTZB",
        "colab_type": "code",
        "colab": {}
      },
      "source": [
        "numbers_of_tweet['number_of_retweets'] = numbers_of_retweets"
      ],
      "execution_count": 30,
      "outputs": []
    },
    {
      "cell_type": "code",
      "metadata": {
        "id": "JtT_vz_fXdhd",
        "colab_type": "code",
        "colab": {}
      },
      "source": [
        "africa_leaders_dict = numbers_of_tweet\n",
        "# for keys in africa_leaders_dict.keys():\n",
        "#   print(keys)\n",
        "#   print(len(africa_leaders_dict[keys]))\n",
        "import pandas as pd\n",
        "africa_leaders_df = pd.DataFrame(africa_leaders_dict)\n"
      ],
      "execution_count": 31,
      "outputs": []
    },
    {
      "cell_type": "code",
      "metadata": {
        "id": "mZXwJ3p5tTOZ",
        "colab_type": "code",
        "colab": {}
      },
      "source": [
        "#africa_leaders_df.drop('top_five_hashtags',axis=1,inplace=True)"
      ],
      "execution_count": 32,
      "outputs": []
    },
    {
      "cell_type": "code",
      "metadata": {
        "id": "dBqiDn6B4ITg",
        "colab_type": "code",
        "colab": {}
      },
      "source": [
        "from collections import Counter\n",
        "list_ = [] \n",
        "for twitter_handle in africa_leaders_dict['hashtags']:\n",
        "  list1 = []\n",
        "  for item,count in Counter(twitter_handle).most_common(5):\n",
        "    list1.append(item)\n",
        "  list_.append(list1)\n"
      ],
      "execution_count": 33,
      "outputs": []
    },
    {
      "cell_type": "code",
      "metadata": {
        "id": "Rcvlvbu0zLmf",
        "colab_type": "code",
        "colab": {
          "base_uri": "https://localhost:8080/",
          "height": 54
        },
        "outputId": "5659c90f-dca2-495e-d31d-40856f70a7ad"
      },
      "source": [
        "print(list_)"
      ],
      "execution_count": 34,
      "outputs": [
        {
          "output_type": "stream",
          "text": [
            "[['COVID19'], ['InaugurationMalawi2020', 'MalawiCabinet', 'Malawi', 'IndependenceDay'], ['ZindziMandela', 'DRC', 'HappyFathersDay2020'], [], ['Ramaphosa', 'MandelaDay', 'COVID19'], ['COVID19', 'ParentingMonth'], ['4thOfJuly'], ['France', 'Djibouti', 'COVID19', 'Hackathon'], ['Eritrea', 'Ethiopia', 'Teleferica', 'Italians'], ['JukumuniSisi', 'Covid19', 'Covid_19', 'KomeshaCorona', 'COVIDー19'], [], ['Somalia'], ['SouthSudan', 'Kiir', 'Covid19ss', 'AUMISS', 'SRCC'], [], [], ['COVID19', 'WorldPopulationDay2020', 'Jinja', 'Arua', 'Gulu'], [], ['Burundi', 'Brazzaville', 'RDCongo', 'COUSP'], [], ['RDC', 'CitéUA', 'PalaisdelaNation', 'PalaisdeJustice', 'Indépendance'], ['Gabon', 'Education'], ['Wasexo', 'ConseilDesMinistres', 'Prbenin', 'Gouvbenin', 'MS'], ['G5Sahel', 'BurkinaFaso', 'Lwili', 'Mauritanie', 'France'], [], [], ['Gambia', 'Covid19Gambia', 'DidYouKnow', 'Covid19', 'gambia'], ['4MoreToDoMoreForYou', 'RegisterToVote2020', 'GovtThisWeek', 'FellowGhanaians', 'FightCOVID19'], ['COVID19'], ['Portugal', 'Guiné'], ['ORTM', 'Urgent', 'Mali'], [], ['ZLECAf'], [], ['ConseildesMinistresSn', 'ConseilDesMinistresSn', 'IGE', 'diaspora', 'Covid19sn'], ['SierraLeone', 'COVID19', 'DPGAlliance'], []]\n"
          ],
          "name": "stdout"
        }
      ]
    },
    {
      "cell_type": "code",
      "metadata": {
        "id": "tMMVHzTjaFr6",
        "colab_type": "code",
        "colab": {}
      },
      "source": [
        "africa_leaders_df['most_used_hashtags'] = list_"
      ],
      "execution_count": 35,
      "outputs": []
    },
    {
      "cell_type": "code",
      "metadata": {
        "id": "fU7P4awv10Aj",
        "colab_type": "code",
        "colab": {}
      },
      "source": [
        "africa_leaders_df.rename({'number_tweet':'total_tweets_number','number_of_likes':'total_tweets_likes','account_age':'handle_creation_date'},axis=1,inplace=True)"
      ],
      "execution_count": 36,
      "outputs": []
    },
    {
      "cell_type": "code",
      "metadata": {
        "id": "ryiKZcpQyqQF",
        "colab_type": "code",
        "colab": {}
      },
      "source": [
        "africa_leaders_df.rename({\n",
        "    'number_of_followers':'followers','number_of_following':'following'\n",
        "    },axis=1,inplace=True)"
      ],
      "execution_count": 37,
      "outputs": []
    },
    {
      "cell_type": "code",
      "metadata": {
        "id": "TV2lBxJf-gEQ",
        "colab_type": "code",
        "colab": {
          "base_uri": "https://localhost:8080/",
          "height": 54
        },
        "outputId": "0b702b0f-3a12-4a2e-a8b8-a9f787817270"
      },
      "source": [
        "names = []\n",
        "for username in final_list:\n",
        "  user = api.get_user(username)\n",
        "  nam = user.name\n",
        "  names.append(nam)\n",
        "print(names)"
      ],
      "execution_count": 38,
      "outputs": [
        {
          "output_type": "stream",
          "text": [
            "['Eswatini Government', 'Malawi Government', 'Hage G. Geingob', 'Seychelles Ministry of Finance', 'Presidency | South Africa 🇿🇦', 'Ministry of Health Zambia', 'President of Zimbabwe', 'MinSantédj', 'Yemane G. Meskel', 'State House Kenya', 'Paul Kagame', 'Mohamed Farmaajo', 'South Sudan Government', 'Abdalla Hamdok', 'TanzaniaSpokesperson', 'Yoweri K Museveni', 'MOFA/MRE -(Angola)', 'Amb. Willy Nyamitwe', 'Chérif Mahamat Zene', 'Présidence RDC 🇨🇩', 'Ali Bongo Ondimba', 'Présidence du Bénin', 'Roch KABORE', 'Presidente Cabo Verde', 'Alassane Ouattara', 'State House of The Gambia', 'Nana Akufo-Addo', 'Alpha CONDÉ', 'Umaro Sissoco Embalo', 'Presidence Mali', 'Mohamed Cheikh El Ghazouani محمد ولدالشيخ الغزواني', 'Issoufou Mahamadou', 'Muhammadu Buhari', 'Macky Sall', 'President Julius Maada Bio', \"Ministère de la Santé et de l'hygiène Publique\"]\n"
          ],
          "name": "stdout"
        }
      ]
    },
    {
      "cell_type": "code",
      "metadata": {
        "id": "OneoNQdAgdDu",
        "colab_type": "code",
        "colab": {}
      },
      "source": [
        "africa_leaders_df['twitter_name'] = names"
      ],
      "execution_count": 39,
      "outputs": []
    },
    {
      "cell_type": "code",
      "metadata": {
        "id": "WECpo8-dgm64",
        "colab_type": "code",
        "colab": {
          "base_uri": "https://localhost:8080/",
          "height": 401
        },
        "outputId": "5e456783-bad5-4324-c075-0d31b8ae6ad6"
      },
      "source": [
        "africa_leaders_df.head()"
      ],
      "execution_count": 40,
      "outputs": [
        {
          "output_type": "execute_result",
          "data": {
            "text/html": [
              "<div>\n",
              "<style scoped>\n",
              "    .dataframe tbody tr th:only-of-type {\n",
              "        vertical-align: middle;\n",
              "    }\n",
              "\n",
              "    .dataframe tbody tr th {\n",
              "        vertical-align: top;\n",
              "    }\n",
              "\n",
              "    .dataframe thead th {\n",
              "        text-align: right;\n",
              "    }\n",
              "</style>\n",
              "<table border=\"1\" class=\"dataframe\">\n",
              "  <thead>\n",
              "    <tr style=\"text-align: right;\">\n",
              "      <th></th>\n",
              "      <th>twitter_handle</th>\n",
              "      <th>total_tweets_number</th>\n",
              "      <th>followers</th>\n",
              "      <th>following</th>\n",
              "      <th>total_tweets_likes</th>\n",
              "      <th>average_tweets_per_day</th>\n",
              "      <th>handle_creation_date</th>\n",
              "      <th>number_of_mentions</th>\n",
              "      <th>hashtags</th>\n",
              "      <th>number_of_retweets</th>\n",
              "      <th>most_used_hashtags</th>\n",
              "      <th>twitter_name</th>\n",
              "    </tr>\n",
              "  </thead>\n",
              "  <tbody>\n",
              "    <tr>\n",
              "      <th>0</th>\n",
              "      <td>@EswatiniGovern1</td>\n",
              "      <td>1686</td>\n",
              "      <td>11352</td>\n",
              "      <td>82</td>\n",
              "      <td>1889</td>\n",
              "      <td>5.9</td>\n",
              "      <td>2019-10-09 07:33:24</td>\n",
              "      <td>1</td>\n",
              "      <td>[COVID19, COVID19, COVID19, COVID19, COVID19, ...</td>\n",
              "      <td>585</td>\n",
              "      <td>[COVID19]</td>\n",
              "      <td>Eswatini Government</td>\n",
              "    </tr>\n",
              "    <tr>\n",
              "      <th>1</th>\n",
              "      <td>@MalawiGovt</td>\n",
              "      <td>4031</td>\n",
              "      <td>39430</td>\n",
              "      <td>26</td>\n",
              "      <td>8617</td>\n",
              "      <td>1.7</td>\n",
              "      <td>2013-11-12 09:15:34</td>\n",
              "      <td>17</td>\n",
              "      <td>[Malawi, MalawiCabinet, MalawiCabinet, MalawiC...</td>\n",
              "      <td>2618</td>\n",
              "      <td>[InaugurationMalawi2020, MalawiCabinet, Malawi...</td>\n",
              "      <td>Malawi Government</td>\n",
              "    </tr>\n",
              "    <tr>\n",
              "      <th>2</th>\n",
              "      <td>@hagegeingob</td>\n",
              "      <td>1087</td>\n",
              "      <td>192774</td>\n",
              "      <td>55</td>\n",
              "      <td>35162</td>\n",
              "      <td>0.5</td>\n",
              "      <td>2014-05-22 17:17:17</td>\n",
              "      <td>1</td>\n",
              "      <td>[ZindziMandela, DRC, HappyFathersDay2020]</td>\n",
              "      <td>4836</td>\n",
              "      <td>[ZindziMandela, DRC, HappyFathersDay2020]</td>\n",
              "      <td>Hage G. Geingob</td>\n",
              "    </tr>\n",
              "    <tr>\n",
              "      <th>3</th>\n",
              "      <td>@FinanceSC</td>\n",
              "      <td>126</td>\n",
              "      <td>127</td>\n",
              "      <td>224</td>\n",
              "      <td>124</td>\n",
              "      <td>1.0</td>\n",
              "      <td>2020-03-17 11:14:52</td>\n",
              "      <td>0</td>\n",
              "      <td>[]</td>\n",
              "      <td>18</td>\n",
              "      <td>[]</td>\n",
              "      <td>Seychelles Ministry of Finance</td>\n",
              "    </tr>\n",
              "    <tr>\n",
              "      <th>4</th>\n",
              "      <td>@PresidencyZA</td>\n",
              "      <td>18888</td>\n",
              "      <td>1600977</td>\n",
              "      <td>14</td>\n",
              "      <td>12578</td>\n",
              "      <td>4.6</td>\n",
              "      <td>2009-05-18 08:38:44</td>\n",
              "      <td>8</td>\n",
              "      <td>[Ramaphosa, MandelaDay, Ramaphosa, Ramaphosa, ...</td>\n",
              "      <td>5137</td>\n",
              "      <td>[Ramaphosa, MandelaDay, COVID19]</td>\n",
              "      <td>Presidency | South Africa 🇿🇦</td>\n",
              "    </tr>\n",
              "  </tbody>\n",
              "</table>\n",
              "</div>"
            ],
            "text/plain": [
              "     twitter_handle  ...                    twitter_name\n",
              "0  @EswatiniGovern1  ...             Eswatini Government\n",
              "1       @MalawiGovt  ...               Malawi Government\n",
              "2      @hagegeingob  ...                 Hage G. Geingob\n",
              "3        @FinanceSC  ...  Seychelles Ministry of Finance\n",
              "4     @PresidencyZA  ...    Presidency | South Africa 🇿🇦\n",
              "\n",
              "[5 rows x 12 columns]"
            ]
          },
          "metadata": {
            "tags": []
          },
          "execution_count": 40
        }
      ]
    },
    {
      "cell_type": "code",
      "metadata": {
        "id": "rf0VojMjhb1-",
        "colab_type": "code",
        "colab": {}
      },
      "source": [
        "africa_leaders_df['popularity_score']= africa_leaders_df['number_of_retweets'] + africa_leaders_df['total_tweets_likes']"
      ],
      "execution_count": 41,
      "outputs": []
    },
    {
      "cell_type": "code",
      "metadata": {
        "id": "7TR1Yf1diCvz",
        "colab_type": "code",
        "colab": {}
      },
      "source": [
        "africa_leaders_df['reach_score'] = africa_leaders_df['followers'] - africa_leaders_df['following']"
      ],
      "execution_count": 42,
      "outputs": []
    },
    {
      "cell_type": "code",
      "metadata": {
        "id": "AqqrfpcKiUrv",
        "colab_type": "code",
        "colab": {}
      },
      "source": [
        "africa_leaders_df['relevance_score'] = africa_leaders_df['number_of_mentions']"
      ],
      "execution_count": 43,
      "outputs": []
    },
    {
      "cell_type": "code",
      "metadata": {
        "id": "C7bRrcHA__y_",
        "colab_type": "code",
        "colab": {}
      },
      "source": [
        "import requests \n",
        "page = requests.get(\"https://africafreak.com/100-most-influential-twitter-users-in-africa\")\n",
        "content = page.content\n",
        "#print(page.status_code)\n",
        "soup = BeautifulSoup(content,'html.parser')\n",
        "names = soup.find_all('h2')\n",
        "name = [i.get_text(strip=True) for i in names]\n",
        "name = name[:-5]\n",
        "most_influential_handles =[]\n",
        "uncleaned_handles = []\n",
        "for i in name:\n",
        "    splitted_name = i.split()\n",
        "    index = len(splitted_name)-1\n",
        "    uncleaned_handles.append(splitted_name[index])\n",
        "for b in uncleaned_handles:\n",
        "    remove_first = b.replace(\"(\",\"\") # remove first parenthesis\n",
        "    remove_second = remove_first.replace(\")\",\"\") # remove second parenthesis\n",
        "    most_influential_handles.append(remove_second)"
      ],
      "execution_count": 44,
      "outputs": []
    },
    {
      "cell_type": "code",
      "metadata": {
        "id": "V8tq_vhTmw48",
        "colab_type": "code",
        "colab": {}
      },
      "source": [
        "import numpy as np\n",
        "influencers_dict = {'twitter_handle':[],\"number_tweet\":[],\"number_of_followers\":[],\"number_of_following\":[],\"number_of_likes\":[],\"average_tweets_per_day\":[],\"account_age\":[],\"number_of_mentions\":[],\"hashtags\":[],\"number_of_reweets\":[]}\n"
      ],
      "execution_count": 45,
      "outputs": []
    },
    {
      "cell_type": "code",
      "metadata": {
        "id": "qtWx71n2jtoS",
        "colab_type": "code",
        "colab": {}
      },
      "source": [
        "for twitter_handles in most_influential_handles:\n",
        "  influencers_dict[\"twitter_handle\"].append(twitter_handles)\n",
        "  try:\n",
        "    influencers_dict[\"number_tweet\"].append(api.get_user(twitter_handles).statuses_count)\n",
        "  except tweepy.error.TweepError:\n",
        "    influencers_dict['number_tweet'].append(np.NaN)"
      ],
      "execution_count": 46,
      "outputs": []
    },
    {
      "cell_type": "code",
      "metadata": {
        "id": "Utv12c6rmw3P",
        "colab_type": "code",
        "colab": {
          "base_uri": "https://localhost:8080/",
          "height": 34
        },
        "outputId": "dd39d0cf-d2e0-4277-9e6e-24e6e5d66936"
      },
      "source": [
        "print(len(influencers_dict['number_tweet']))"
      ],
      "execution_count": 47,
      "outputs": [
        {
          "output_type": "stream",
          "text": [
            "100\n"
          ],
          "name": "stdout"
        }
      ]
    },
    {
      "cell_type": "code",
      "metadata": {
        "id": "LfxWzgN6pU8L",
        "colab_type": "code",
        "colab": {}
      },
      "source": [
        "for twitter_handles in most_influential_handles:\n",
        "  try:\n",
        "    user = api.get_user(twitter_handles)\n",
        "    user_following = user.friends_count\n",
        "    influencers_dict[\"number_of_following\"].append(user_following)\n",
        "  except tweepy.error.TweepError:\n",
        "    influencers_dict['number_of_following'].append(np.NaN)\n",
        "\n"
      ],
      "execution_count": 48,
      "outputs": []
    },
    {
      "cell_type": "code",
      "metadata": {
        "id": "BjIKSiKApU52",
        "colab_type": "code",
        "colab": {
          "base_uri": "https://localhost:8080/",
          "height": 34
        },
        "outputId": "ec0e2471-d216-4afd-c525-81bd8e448e4d"
      },
      "source": [
        "print(len(influencers_dict['number_of_following']))"
      ],
      "execution_count": 49,
      "outputs": [
        {
          "output_type": "stream",
          "text": [
            "100\n"
          ],
          "name": "stdout"
        }
      ]
    },
    {
      "cell_type": "code",
      "metadata": {
        "id": "KQYE-Hf4leBj",
        "colab_type": "code",
        "colab": {}
      },
      "source": [
        "influencers_dict['average_tweets_per_day'] = []"
      ],
      "execution_count": 50,
      "outputs": []
    },
    {
      "cell_type": "code",
      "metadata": {
        "id": "W8uctS5-vFrI",
        "colab_type": "code",
        "colab": {}
      },
      "source": [
        "for twitter_handles in most_influential_handles:\n",
        "  try:\n",
        "    user= api.get_user(twitter_handles)\n",
        "    number_of_users_tweets = user.statuses_count\n",
        "    account_created_date = user.created_at\n",
        "    delta = datetime.utcnow()-account_created_date\n",
        "    account_age_days =delta.days\n",
        "    influencers_dict['account_age'].append(account_created_date)\n",
        "    # get the utc of time of created account\n",
        "    if account_age_days>0:\n",
        "      average_tweets_per_day = float(number_of_users_tweets)/float(account_age_days)\n",
        "      influencers_dict['average_tweets_per_day'].append(round(average_tweets_per_day,1))\n",
        "  except tweepy.error.TweepError:\n",
        "    #influencers_dict['average_tweets_per_day'].append(np.NaN)\n",
        "    influencers_dict['average_tweets_per_day'].append(np.NaN)\n",
        "    influencers_dict['account_age'].append(np.NaN)\n",
        "\n"
      ],
      "execution_count": 51,
      "outputs": []
    },
    {
      "cell_type": "code",
      "metadata": {
        "id": "xwoJuyK5lPBo",
        "colab_type": "code",
        "colab": {
          "base_uri": "https://localhost:8080/",
          "height": 34
        },
        "outputId": "f0c8ce1d-15cb-410c-d652-0ee41d24a779"
      },
      "source": [
        "print(len(influencers_dict['number_of_likes']))"
      ],
      "execution_count": 52,
      "outputs": [
        {
          "output_type": "stream",
          "text": [
            "0\n"
          ],
          "name": "stdout"
        }
      ]
    },
    {
      "cell_type": "code",
      "metadata": {
        "id": "qn0R28b1vFkJ",
        "colab_type": "code",
        "colab": {}
      },
      "source": [
        "for twitter_handles in most_influential_handles:\n",
        "  try:\n",
        "    hash,men = mentions_and_hashtags(twitter_handles)\n",
        "    influencers_dict['hashtags'].append(hash)\n",
        "  except tweepy.error.TweepError:\n",
        "    influencers_dict['hashtags'].append(np.NaN)"
      ],
      "execution_count": 53,
      "outputs": []
    },
    {
      "cell_type": "code",
      "metadata": {
        "id": "iepzPKTwyohv",
        "colab_type": "code",
        "colab": {}
      },
      "source": [
        "for twitter_handles in most_influential_handles:\n",
        "  try:\n",
        "    hash,men = mentions_and_hashtags(twitter_handles)\n",
        "    influencers_dict['number_of_mentions'].append(men)\n",
        "  except tweepy.error.TweepError:\n",
        "    influencers_dict['number_of_mentions'].append(np.NaN)\n",
        "  "
      ],
      "execution_count": 54,
      "outputs": []
    },
    {
      "cell_type": "code",
      "metadata": {
        "id": "WH0cDIT2y5v1",
        "colab_type": "code",
        "colab": {}
      },
      "source": [
        "for twitter_handles in most_influential_handles:\n",
        "  try:\n",
        "    like = likes(twitter_handles)\n",
        "    influencers_dict['number_of_likes'].append(like)\n",
        "  except tweepy.error.TweepError:\n",
        "    influencers_dict['number_of_likes'].append(np.NaN)\n"
      ],
      "execution_count": 55,
      "outputs": []
    },
    {
      "cell_type": "code",
      "metadata": {
        "id": "lzDwYzd4y5tQ",
        "colab_type": "code",
        "colab": {}
      },
      "source": [
        "for twitter_handles in most_influential_handles:\n",
        "  try:\n",
        "    user = api.get_user(twitter_handles)\n",
        "    user_followers = user.followers_count\n",
        "    influencers_dict[\"number_of_followers\"].append(user_followers)\n",
        "  except tweepy.TweepError:\n",
        "    influencers_dict['number_of_followers'].append(np.NaN)"
      ],
      "execution_count": 56,
      "outputs": []
    },
    {
      "cell_type": "code",
      "metadata": {
        "id": "tA9xagGLtfp8",
        "colab_type": "code",
        "colab": {
          "base_uri": "https://localhost:8080/",
          "height": 54
        },
        "outputId": "5d9608ef-bc44-46d6-95c4-e6ff12d70d3b"
      },
      "source": [
        "print(influencers_dict['number_of_following'])"
      ],
      "execution_count": 57,
      "outputs": [
        {
          "output_type": "stream",
          "text": [
            "[37, 3059, 2841, 4590, 5048, 2876, 179, 0, 1731, 366, 2927, 1818, nan, 2138, 894, 294, 172, 2988, 132, 425, 660, 2254, 813, 754, 940, 3602, nan, nan, 15, 0, 1155, 89596, 220, nan, 1644, 49691, 151, 2415, 653, 1918, 1980, 983, 0, 1904, 3122, 1347, 3714, 4613, 405, 1012, nan, 1142, 61959, 1114, 757, 1488, 657, 391, 1940, 25636, 5471, 3166, 1545, 74104, nan, 10842, 141, 128, 11, 3345, 479, 987, 561, 1641, 2205, 985, 186, 305, 0, 455, 1617, 269, 2991, 25598, 0, 65, 530184, nan, 1995, 109, 1225, 3951, 411, 478, 2302, 651, 632, 14, 356, 325]\n"
          ],
          "name": "stdout"
        }
      ]
    },
    {
      "cell_type": "code",
      "metadata": {
        "id": "q4sypmo45njf",
        "colab_type": "code",
        "colab": {
          "base_uri": "https://localhost:8080/",
          "height": 372
        },
        "outputId": "b977d72d-67cc-472e-d55b-af7c08039aaa"
      },
      "source": [
        "africa_influencers_dict = influencers_dict\n",
        "#influencers_dict.pop('number_of_reweets')\n",
        "for keys in influencers_dict.keys():\n",
        "  print(keys)\n",
        "  print(len(africa_influencers_dict[keys]))\n",
        "\n",
        "import pandas as pd\n",
        "africa_influencers_df = pd.DataFrame(africa_influencers_dict)"
      ],
      "execution_count": 78,
      "outputs": [
        {
          "output_type": "stream",
          "text": [
            "twitter_handle\n",
            "100\n",
            "number_tweet\n",
            "100\n",
            "number_of_followers\n",
            "100\n",
            "number_of_following\n",
            "100\n",
            "number_of_likes\n",
            "100\n",
            "average_tweets_per_day\n",
            "100\n",
            "account_age\n",
            "100\n",
            "number_of_mentions\n",
            "100\n",
            "hashtags\n",
            "100\n",
            "number_of_retweets\n",
            "100\n"
          ],
          "name": "stdout"
        }
      ]
    },
    {
      "cell_type": "code",
      "metadata": {
        "id": "hjkotMELsr9v",
        "colab_type": "code",
        "colab": {}
      },
      "source": [
        "for twitter_handles in most_influential_handles:\n",
        "  try:\n",
        "    retweet2 = retweet(twitter_handles)\n",
        "    africa_influencers_dict['number_of_retweets'].append(retweet2)\n",
        "  except tweepy.error.TweepError:\n",
        "    africa_influencers_dict['number_of_retweets'].append(np.NaN)\n"
      ],
      "execution_count": 65,
      "outputs": []
    },
    {
      "cell_type": "code",
      "metadata": {
        "id": "4RFa4zEh5ngt",
        "colab_type": "code",
        "colab": {}
      },
      "source": [
        "africa_influencers_dict['number_of_retweets'] = []"
      ],
      "execution_count": 64,
      "outputs": []
    },
    {
      "cell_type": "code",
      "metadata": {
        "id": "TySpv-DXdQNW",
        "colab_type": "code",
        "colab": {
          "base_uri": "https://localhost:8080/",
          "height": 34
        },
        "outputId": "e876f2f0-0d5c-4fc7-ad9e-bb19b548ca51"
      },
      "source": [
        "print(len(africa_influencers_dict['number_of_retweets']))"
      ],
      "execution_count": 66,
      "outputs": [
        {
          "output_type": "stream",
          "text": [
            "100\n"
          ],
          "name": "stdout"
        }
      ]
    },
    {
      "cell_type": "code",
      "metadata": {
        "id": "R8AVYcRDzcRW",
        "colab_type": "code",
        "colab": {}
      },
      "source": [
        "names =[]\n",
        "for twitter_handles in most_influential_handles:\n",
        "  try:\n",
        "    user = api.get_user(twitter_handles)\n",
        "    names.append(user.name)\n",
        "  except tweepy.error.TweepError:\n",
        "    names.append(np.NaN)"
      ],
      "execution_count": 67,
      "outputs": []
    },
    {
      "cell_type": "code",
      "metadata": {
        "id": "2O4SJkBC0WO7",
        "colab_type": "code",
        "colab": {
          "base_uri": "https://localhost:8080/",
          "height": 34
        },
        "outputId": "3f2baecb-d1a3-4adf-b535-4b611262774b"
      },
      "source": [
        "print(len(names))"
      ],
      "execution_count": 68,
      "outputs": [
        {
          "output_type": "stream",
          "text": [
            "100\n"
          ],
          "name": "stdout"
        }
      ]
    },
    {
      "cell_type": "code",
      "metadata": {
        "id": "cOlCMz8v0hp8",
        "colab_type": "code",
        "colab": {}
      },
      "source": [
        "africa_influencers_df['twitter_names'] = names"
      ],
      "execution_count": 79,
      "outputs": []
    },
    {
      "cell_type": "code",
      "metadata": {
        "id": "JCnEgce107ZL",
        "colab_type": "code",
        "colab": {
          "base_uri": "https://localhost:8080/",
          "height": 384
        },
        "outputId": "05cbe4da-2baf-42e2-d3a8-09c2a4d9a062"
      },
      "source": [
        "africa_influencers_df.head()"
      ],
      "execution_count": 80,
      "outputs": [
        {
          "output_type": "execute_result",
          "data": {
            "text/html": [
              "<div>\n",
              "<style scoped>\n",
              "    .dataframe tbody tr th:only-of-type {\n",
              "        vertical-align: middle;\n",
              "    }\n",
              "\n",
              "    .dataframe tbody tr th {\n",
              "        vertical-align: top;\n",
              "    }\n",
              "\n",
              "    .dataframe thead th {\n",
              "        text-align: right;\n",
              "    }\n",
              "</style>\n",
              "<table border=\"1\" class=\"dataframe\">\n",
              "  <thead>\n",
              "    <tr style=\"text-align: right;\">\n",
              "      <th></th>\n",
              "      <th>twitter_handle</th>\n",
              "      <th>number_tweet</th>\n",
              "      <th>number_of_followers</th>\n",
              "      <th>number_of_following</th>\n",
              "      <th>number_of_likes</th>\n",
              "      <th>average_tweets_per_day</th>\n",
              "      <th>account_age</th>\n",
              "      <th>number_of_mentions</th>\n",
              "      <th>hashtags</th>\n",
              "      <th>number_of_retweets</th>\n",
              "      <th>twitter_names</th>\n",
              "    </tr>\n",
              "  </thead>\n",
              "  <tbody>\n",
              "    <tr>\n",
              "      <th>0</th>\n",
              "      <td>@gettleman</td>\n",
              "      <td>3773.0</td>\n",
              "      <td>25709.0</td>\n",
              "      <td>37.0</td>\n",
              "      <td>10183.0</td>\n",
              "      <td>1.1</td>\n",
              "      <td>2011-05-25 17:49:42</td>\n",
              "      <td>39.0</td>\n",
              "      <td>[COVID19, PLA, IndianArmy, COVID19]</td>\n",
              "      <td>3952.0</td>\n",
              "      <td>Jeffrey Gettleman</td>\n",
              "    </tr>\n",
              "    <tr>\n",
              "      <th>1</th>\n",
              "      <td>@a24media</td>\n",
              "      <td>16871.0</td>\n",
              "      <td>31287.0</td>\n",
              "      <td>3059.0</td>\n",
              "      <td>215.0</td>\n",
              "      <td>4.1</td>\n",
              "      <td>2009-03-25 11:29:33</td>\n",
              "      <td>23.0</td>\n",
              "      <td>[FlattenTheCurve, YeboWatchParty, YeboWatchPar...</td>\n",
              "      <td>42.0</td>\n",
              "      <td>NaN</td>\n",
              "    </tr>\n",
              "    <tr>\n",
              "      <th>2</th>\n",
              "      <td>@andiMakinana</td>\n",
              "      <td>142268.0</td>\n",
              "      <td>101329.0</td>\n",
              "      <td>2841.0</td>\n",
              "      <td>1674.0</td>\n",
              "      <td>35.8</td>\n",
              "      <td>2009-09-06 10:53:07</td>\n",
              "      <td>39.0</td>\n",
              "      <td>[SchoolRun, UDM]</td>\n",
              "      <td>605.0</td>\n",
              "      <td>Scapegoat</td>\n",
              "    </tr>\n",
              "    <tr>\n",
              "      <th>3</th>\n",
              "      <td>@AfricaCheck</td>\n",
              "      <td>27343.0</td>\n",
              "      <td>68071.0</td>\n",
              "      <td>4590.0</td>\n",
              "      <td>396.0</td>\n",
              "      <td>9.3</td>\n",
              "      <td>2012-07-03 11:34:29</td>\n",
              "      <td>32.0</td>\n",
              "      <td>[factcheck, African, Covid, miniquiz, African,...</td>\n",
              "      <td>454.0</td>\n",
              "      <td>Africa Check</td>\n",
              "    </tr>\n",
              "    <tr>\n",
              "      <th>4</th>\n",
              "      <td>@JamesCopnall</td>\n",
              "      <td>19439.0</td>\n",
              "      <td>21966.0</td>\n",
              "      <td>5048.0</td>\n",
              "      <td>572.0</td>\n",
              "      <td>6.1</td>\n",
              "      <td>2011-10-30 17:32:39</td>\n",
              "      <td>46.0</td>\n",
              "      <td>[Sudan, Sudan, Malawi, BBCFocusOnAfrica, Newsd...</td>\n",
              "      <td>70.0</td>\n",
              "      <td>James Copnall</td>\n",
              "    </tr>\n",
              "  </tbody>\n",
              "</table>\n",
              "</div>"
            ],
            "text/plain": [
              "  twitter_handle  number_tweet  ...  number_of_retweets      twitter_names\n",
              "0     @gettleman        3773.0  ...              3952.0  Jeffrey Gettleman\n",
              "1      @a24media       16871.0  ...                42.0                NaN\n",
              "2  @andiMakinana      142268.0  ...               605.0          Scapegoat\n",
              "3   @AfricaCheck       27343.0  ...               454.0       Africa Check\n",
              "4  @JamesCopnall       19439.0  ...                70.0      James Copnall\n",
              "\n",
              "[5 rows x 11 columns]"
            ]
          },
          "metadata": {
            "tags": []
          },
          "execution_count": 80
        }
      ]
    },
    {
      "cell_type": "code",
      "metadata": {
        "id": "xZt8VQwJ1EXK",
        "colab_type": "code",
        "colab": {}
      },
      "source": [
        "africa_influencers_df['popularity_score'] = africa_influencers_df[\n",
        "                                                                  'number_of_retweets'\n",
        "                                                                  ] + africa_influencers_df[\n",
        "                                                                                            'number_of_likes'\n",
        "                                                                                            ]"
      ],
      "execution_count": 81,
      "outputs": []
    },
    {
      "cell_type": "code",
      "metadata": {
        "id": "OVvhcwxh13cb",
        "colab_type": "code",
        "colab": {}
      },
      "source": [
        "africa_influencers_df['reach_score']= africa_influencers_df[\n",
        "                                                            'number_of_followers'\n",
        "]- africa_influencers_df['number_of_following']"
      ],
      "execution_count": 82,
      "outputs": []
    },
    {
      "cell_type": "code",
      "metadata": {
        "id": "KMjW4-k42hsh",
        "colab_type": "code",
        "colab": {}
      },
      "source": [
        "africa_influencers_df['relevance_score'] = africa_influencers_df['number_of_mentions'\n",
        "                                                                 \n",
        "]"
      ],
      "execution_count": 83,
      "outputs": []
    },
    {
      "cell_type": "code",
      "metadata": {
        "id": "mWUYffFu2yfx",
        "colab_type": "code",
        "colab": {}
      },
      "source": [
        "africa_influencers_df.rename({'number_tweet':'total_tweets_number','number_of_likes':'total_tweets_likes','account_age':'handle_creation_date','number_of_followers':'followers','number_of_following':'following'},axis=1,inplace=True)"
      ],
      "execution_count": 84,
      "outputs": []
    },
    {
      "cell_type": "code",
      "metadata": {
        "id": "WifqwlfS46SI",
        "colab_type": "code",
        "colab": {}
      },
      "source": [
        "africa_leaders_popularity = africa_leaders_df.sort_values(by='popularity_score',ascending=False)"
      ],
      "execution_count": 85,
      "outputs": []
    },
    {
      "cell_type": "code",
      "metadata": {
        "id": "wziPvPbM5jPz",
        "colab_type": "code",
        "colab": {}
      },
      "source": [
        "top_10_popular_leaders= africa_leaders_popularity.head(10)"
      ],
      "execution_count": 86,
      "outputs": []
    },
    {
      "cell_type": "code",
      "metadata": {
        "id": "c3MFcTF27RRH",
        "colab_type": "code",
        "colab": {
          "base_uri": "https://localhost:8080/",
          "height": 617
        },
        "outputId": "d4bc8cc3-9554-404d-ab01-c1e2dcd54cb2"
      },
      "source": [
        "top_10_popular_leaders"
      ],
      "execution_count": 87,
      "outputs": [
        {
          "output_type": "execute_result",
          "data": {
            "text/html": [
              "<div>\n",
              "<style scoped>\n",
              "    .dataframe tbody tr th:only-of-type {\n",
              "        vertical-align: middle;\n",
              "    }\n",
              "\n",
              "    .dataframe tbody tr th {\n",
              "        vertical-align: top;\n",
              "    }\n",
              "\n",
              "    .dataframe thead th {\n",
              "        text-align: right;\n",
              "    }\n",
              "</style>\n",
              "<table border=\"1\" class=\"dataframe\">\n",
              "  <thead>\n",
              "    <tr style=\"text-align: right;\">\n",
              "      <th></th>\n",
              "      <th>twitter_handle</th>\n",
              "      <th>total_tweets_number</th>\n",
              "      <th>followers</th>\n",
              "      <th>following</th>\n",
              "      <th>total_tweets_likes</th>\n",
              "      <th>average_tweets_per_day</th>\n",
              "      <th>handle_creation_date</th>\n",
              "      <th>number_of_mentions</th>\n",
              "      <th>hashtags</th>\n",
              "      <th>number_of_retweets</th>\n",
              "      <th>most_used_hashtags</th>\n",
              "      <th>twitter_name</th>\n",
              "      <th>popularity_score</th>\n",
              "      <th>reach_score</th>\n",
              "      <th>relevance_score</th>\n",
              "    </tr>\n",
              "  </thead>\n",
              "  <tbody>\n",
              "    <tr>\n",
              "      <th>26</th>\n",
              "      <td>@NAkufoAddo</td>\n",
              "      <td>7103</td>\n",
              "      <td>1511141</td>\n",
              "      <td>352</td>\n",
              "      <td>649859</td>\n",
              "      <td>2.1</td>\n",
              "      <td>2011-02-04 10:14:22</td>\n",
              "      <td>18</td>\n",
              "      <td>[RegisterToVote2020, 4MoreToDoMoreForYou, Regi...</td>\n",
              "      <td>112518</td>\n",
              "      <td>[4MoreToDoMoreForYou, RegisterToVote2020, Govt...</td>\n",
              "      <td>Nana Akufo-Addo</td>\n",
              "      <td>762377</td>\n",
              "      <td>1510789</td>\n",
              "      <td>18</td>\n",
              "    </tr>\n",
              "    <tr>\n",
              "      <th>10</th>\n",
              "      <td>@PaulKagame</td>\n",
              "      <td>2864</td>\n",
              "      <td>1988358</td>\n",
              "      <td>181</td>\n",
              "      <td>342946</td>\n",
              "      <td>0.7</td>\n",
              "      <td>2009-05-04 05:16:24</td>\n",
              "      <td>2</td>\n",
              "      <td>[]</td>\n",
              "      <td>73407</td>\n",
              "      <td>[]</td>\n",
              "      <td>Paul Kagame</td>\n",
              "      <td>416353</td>\n",
              "      <td>1988177</td>\n",
              "      <td>2</td>\n",
              "    </tr>\n",
              "    <tr>\n",
              "      <th>11</th>\n",
              "      <td>@M_Farmaajo</td>\n",
              "      <td>600</td>\n",
              "      <td>425268</td>\n",
              "      <td>2</td>\n",
              "      <td>183298</td>\n",
              "      <td>0.5</td>\n",
              "      <td>2016-12-24 11:53:28</td>\n",
              "      <td>4</td>\n",
              "      <td>[Somalia]</td>\n",
              "      <td>34495</td>\n",
              "      <td>[Somalia]</td>\n",
              "      <td>Mohamed Farmaajo</td>\n",
              "      <td>217793</td>\n",
              "      <td>425266</td>\n",
              "      <td>4</td>\n",
              "    </tr>\n",
              "    <tr>\n",
              "      <th>13</th>\n",
              "      <td>@SudanPMHamdok</td>\n",
              "      <td>655</td>\n",
              "      <td>372141</td>\n",
              "      <td>115</td>\n",
              "      <td>169999</td>\n",
              "      <td>2.0</td>\n",
              "      <td>2019-08-23 07:28:09</td>\n",
              "      <td>3</td>\n",
              "      <td>[]</td>\n",
              "      <td>28830</td>\n",
              "      <td>[]</td>\n",
              "      <td>Abdalla Hamdok</td>\n",
              "      <td>198829</td>\n",
              "      <td>372026</td>\n",
              "      <td>3</td>\n",
              "    </tr>\n",
              "    <tr>\n",
              "      <th>15</th>\n",
              "      <td>@KagutaMuseveni</td>\n",
              "      <td>6646</td>\n",
              "      <td>1817077</td>\n",
              "      <td>28</td>\n",
              "      <td>164914</td>\n",
              "      <td>1.8</td>\n",
              "      <td>2010-03-27 15:08:09</td>\n",
              "      <td>3</td>\n",
              "      <td>[COVID19, WorldPopulationDay2020, Jinja, Arua,...</td>\n",
              "      <td>24455</td>\n",
              "      <td>[COVID19, WorldPopulationDay2020, Jinja, Arua,...</td>\n",
              "      <td>Yoweri K Museveni</td>\n",
              "      <td>189369</td>\n",
              "      <td>1817049</td>\n",
              "      <td>3</td>\n",
              "    </tr>\n",
              "    <tr>\n",
              "      <th>6</th>\n",
              "      <td>@edmnangagwa</td>\n",
              "      <td>628</td>\n",
              "      <td>547553</td>\n",
              "      <td>116</td>\n",
              "      <td>131368</td>\n",
              "      <td>0.2</td>\n",
              "      <td>2011-12-27 11:26:29</td>\n",
              "      <td>3</td>\n",
              "      <td>[4thOfJuly]</td>\n",
              "      <td>29540</td>\n",
              "      <td>[4thOfJuly]</td>\n",
              "      <td>President of Zimbabwe</td>\n",
              "      <td>160908</td>\n",
              "      <td>547437</td>\n",
              "      <td>3</td>\n",
              "    </tr>\n",
              "    <tr>\n",
              "      <th>32</th>\n",
              "      <td>@MBuhari</td>\n",
              "      <td>4737</td>\n",
              "      <td>3276245</td>\n",
              "      <td>26</td>\n",
              "      <td>110684</td>\n",
              "      <td>2.3</td>\n",
              "      <td>2014-12-22 08:56:35</td>\n",
              "      <td>1</td>\n",
              "      <td>[]</td>\n",
              "      <td>25783</td>\n",
              "      <td>[]</td>\n",
              "      <td>Muhammadu Buhari</td>\n",
              "      <td>136467</td>\n",
              "      <td>3276219</td>\n",
              "      <td>1</td>\n",
              "    </tr>\n",
              "    <tr>\n",
              "      <th>33</th>\n",
              "      <td>@Macky_Sall</td>\n",
              "      <td>2796</td>\n",
              "      <td>1377585</td>\n",
              "      <td>171</td>\n",
              "      <td>95935</td>\n",
              "      <td>0.8</td>\n",
              "      <td>2010-10-01 17:05:26</td>\n",
              "      <td>12</td>\n",
              "      <td>[ConseildesMinistresSn, ConseildesMinistresSn,...</td>\n",
              "      <td>12810</td>\n",
              "      <td>[ConseildesMinistresSn, ConseilDesMinistresSn,...</td>\n",
              "      <td>Macky Sall</td>\n",
              "      <td>108745</td>\n",
              "      <td>1377414</td>\n",
              "      <td>12</td>\n",
              "    </tr>\n",
              "    <tr>\n",
              "      <th>19</th>\n",
              "      <td>@Presidence_RDC</td>\n",
              "      <td>1652</td>\n",
              "      <td>342008</td>\n",
              "      <td>125</td>\n",
              "      <td>67078</td>\n",
              "      <td>1.3</td>\n",
              "      <td>2017-01-07 14:17:29</td>\n",
              "      <td>0</td>\n",
              "      <td>[RDC, PalaisdeJustice, RDC, CitéUA, RDC, RDC, ...</td>\n",
              "      <td>8905</td>\n",
              "      <td>[RDC, CitéUA, PalaisdelaNation, PalaisdeJustic...</td>\n",
              "      <td>Présidence RDC 🇨🇩</td>\n",
              "      <td>75983</td>\n",
              "      <td>341883</td>\n",
              "      <td>0</td>\n",
              "    </tr>\n",
              "    <tr>\n",
              "      <th>30</th>\n",
              "      <td>@CheikhGhazouani</td>\n",
              "      <td>30</td>\n",
              "      <td>31843</td>\n",
              "      <td>9</td>\n",
              "      <td>63353</td>\n",
              "      <td>0.1</td>\n",
              "      <td>2019-12-19 20:59:01</td>\n",
              "      <td>0</td>\n",
              "      <td>[]</td>\n",
              "      <td>7938</td>\n",
              "      <td>[]</td>\n",
              "      <td>Mohamed Cheikh El Ghazouani محمد ولدالشيخ الغز...</td>\n",
              "      <td>71291</td>\n",
              "      <td>31834</td>\n",
              "      <td>0</td>\n",
              "    </tr>\n",
              "  </tbody>\n",
              "</table>\n",
              "</div>"
            ],
            "text/plain": [
              "      twitter_handle  total_tweets_number  ...  reach_score  relevance_score\n",
              "26       @NAkufoAddo                 7103  ...      1510789               18\n",
              "10       @PaulKagame                 2864  ...      1988177                2\n",
              "11       @M_Farmaajo                  600  ...       425266                4\n",
              "13    @SudanPMHamdok                  655  ...       372026                3\n",
              "15   @KagutaMuseveni                 6646  ...      1817049                3\n",
              "6       @edmnangagwa                  628  ...       547437                3\n",
              "32          @MBuhari                 4737  ...      3276219                1\n",
              "33       @Macky_Sall                 2796  ...      1377414               12\n",
              "19   @Presidence_RDC                 1652  ...       341883                0\n",
              "30  @CheikhGhazouani                   30  ...        31834                0\n",
              "\n",
              "[10 rows x 15 columns]"
            ]
          },
          "metadata": {
            "tags": []
          },
          "execution_count": 87
        }
      ]
    },
    {
      "cell_type": "code",
      "metadata": {
        "id": "33qafy8k6FdN",
        "colab_type": "code",
        "colab": {
          "base_uri": "https://localhost:8080/",
          "height": 72
        },
        "outputId": "1b259679-d250-403e-9129-a952b4f38620"
      },
      "source": [
        "import matplotlib.pyplot as plt\n",
        "import seaborn as sns\n",
        "%matplotlib inline\n",
        "sns.set_style('dark')\n"
      ],
      "execution_count": 88,
      "outputs": [
        {
          "output_type": "stream",
          "text": [
            "/usr/local/lib/python3.6/dist-packages/statsmodels/tools/_testing.py:19: FutureWarning: pandas.util.testing is deprecated. Use the functions in the public API at pandas.testing instead.\n",
            "  import pandas.util.testing as tm\n"
          ],
          "name": "stderr"
        }
      ]
    },
    {
      "cell_type": "code",
      "metadata": {
        "id": "CP1cCNrl62za",
        "colab_type": "code",
        "colab": {
          "base_uri": "https://localhost:8080/",
          "height": 924
        },
        "outputId": "8b8e6336-a63e-4e0c-f10f-d6e7d1552c3a"
      },
      "source": [
        "fig,ax = plt.subplots(figsize=(12,8\n",
        "                            ))\n",
        "g=sns.barplot(x='twitter_name',y='popularity_score',data=top_10_popular_leaders)\n",
        "ax.set_xticklabels(top_10_popular_leaders['twitter_name'],rotation = 75)\n",
        "ax.set_title('Africa Leaders popularity on Twitter(Numbers of retweets + number of likes')\n",
        "ax.set_ylabel('Popularity')\n",
        "plt.savefig('popularity1.png')"
      ],
      "execution_count": 93,
      "outputs": [
        {
          "output_type": "stream",
          "text": [
            "/usr/local/lib/python3.6/dist-packages/matplotlib/backends/backend_agg.py:214: RuntimeWarning: Glyph 127464 missing from current font.\n",
            "  font.set_text(s, 0.0, flags=flags)\n",
            "/usr/local/lib/python3.6/dist-packages/matplotlib/backends/backend_agg.py:214: RuntimeWarning: Glyph 127465 missing from current font.\n",
            "  font.set_text(s, 0.0, flags=flags)\n",
            "/usr/local/lib/python3.6/dist-packages/matplotlib/backends/backend_agg.py:183: RuntimeWarning: Glyph 127464 missing from current font.\n",
            "  font.set_text(s, 0, flags=flags)\n",
            "/usr/local/lib/python3.6/dist-packages/matplotlib/backends/backend_agg.py:183: RuntimeWarning: Glyph 127465 missing from current font.\n",
            "  font.set_text(s, 0, flags=flags)\n"
          ],
          "name": "stderr"
        },
        {
          "output_type": "display_data",
          "data": {
            "image/png": "[encoded data removed]",
            "text/plain": [
              "<Figure size 864x576 with 1 Axes>"
            ]
          },
          "metadata": {
            "tags": []
          }
        }
      ]
    },
    {
      "cell_type": "code",
      "metadata": {
        "id": "R7xni0qsBxto",
        "colab_type": "code",
        "colab": {
          "base_uri": "https://localhost:8080/",
          "height": 123
        },
        "outputId": "ddce72b6-0aec-4a4c-a519-f4b00c71687d"
      },
      "source": [
        "top_10_popular_leaders['Rank by popularity'] = top_10_popular_leaders['popularity_score'].rank(ascending=False)"
      ],
      "execution_count": 89,
      "outputs": [
        {
          "output_type": "stream",
          "text": [
            "/usr/local/lib/python3.6/dist-packages/ipykernel_launcher.py:1: SettingWithCopyWarning: \n",
            "A value is trying to be set on a copy of a slice from a DataFrame.\n",
            "Try using .loc[row_indexer,col_indexer] = value instead\n",
            "\n",
            "See the caveats in the documentation: https://pandas.pydata.org/pandas-docs/stable/user_guide/indexing.html#returning-a-view-versus-a-copy\n",
            "  \"\"\"Entry point for launching an IPython kernel.\n"
          ],
          "name": "stderr"
        }
      ]
    },
    {
      "cell_type": "code",
      "metadata": {
        "id": "rJWVNhN6CJEI",
        "colab_type": "code",
        "colab": {
          "base_uri": "https://localhost:8080/",
          "height": 334
        },
        "outputId": "71628ccf-01d2-4744-bde1-312b7575a846"
      },
      "source": [
        "top_10_popular_leaders.head()"
      ],
      "execution_count": 90,
      "outputs": [
        {
          "output_type": "execute_result",
          "data": {
            "text/html": [
              "<div>\n",
              "<style scoped>\n",
              "    .dataframe tbody tr th:only-of-type {\n",
              "        vertical-align: middle;\n",
              "    }\n",
              "\n",
              "    .dataframe tbody tr th {\n",
              "        vertical-align: top;\n",
              "    }\n",
              "\n",
              "    .dataframe thead th {\n",
              "        text-align: right;\n",
              "    }\n",
              "</style>\n",
              "<table border=\"1\" class=\"dataframe\">\n",
              "  <thead>\n",
              "    <tr style=\"text-align: right;\">\n",
              "      <th></th>\n",
              "      <th>twitter_handle</th>\n",
              "      <th>total_tweets_number</th>\n",
              "      <th>followers</th>\n",
              "      <th>following</th>\n",
              "      <th>total_tweets_likes</th>\n",
              "      <th>average_tweets_per_day</th>\n",
              "      <th>handle_creation_date</th>\n",
              "      <th>number_of_mentions</th>\n",
              "      <th>hashtags</th>\n",
              "      <th>number_of_retweets</th>\n",
              "      <th>most_used_hashtags</th>\n",
              "      <th>twitter_name</th>\n",
              "      <th>popularity_score</th>\n",
              "      <th>reach_score</th>\n",
              "      <th>relevance_score</th>\n",
              "      <th>Rank by popularity</th>\n",
              "    </tr>\n",
              "  </thead>\n",
              "  <tbody>\n",
              "    <tr>\n",
              "      <th>26</th>\n",
              "      <td>@NAkufoAddo</td>\n",
              "      <td>7103</td>\n",
              "      <td>1511141</td>\n",
              "      <td>352</td>\n",
              "      <td>649859</td>\n",
              "      <td>2.1</td>\n",
              "      <td>2011-02-04 10:14:22</td>\n",
              "      <td>18</td>\n",
              "      <td>[RegisterToVote2020, 4MoreToDoMoreForYou, Regi...</td>\n",
              "      <td>112518</td>\n",
              "      <td>[4MoreToDoMoreForYou, RegisterToVote2020, Govt...</td>\n",
              "      <td>Nana Akufo-Addo</td>\n",
              "      <td>762377</td>\n",
              "      <td>1510789</td>\n",
              "      <td>18</td>\n",
              "      <td>1.0</td>\n",
              "    </tr>\n",
              "    <tr>\n",
              "      <th>10</th>\n",
              "      <td>@PaulKagame</td>\n",
              "      <td>2864</td>\n",
              "      <td>1988358</td>\n",
              "      <td>181</td>\n",
              "      <td>342946</td>\n",
              "      <td>0.7</td>\n",
              "      <td>2009-05-04 05:16:24</td>\n",
              "      <td>2</td>\n",
              "      <td>[]</td>\n",
              "      <td>73407</td>\n",
              "      <td>[]</td>\n",
              "      <td>Paul Kagame</td>\n",
              "      <td>416353</td>\n",
              "      <td>1988177</td>\n",
              "      <td>2</td>\n",
              "      <td>2.0</td>\n",
              "    </tr>\n",
              "    <tr>\n",
              "      <th>11</th>\n",
              "      <td>@M_Farmaajo</td>\n",
              "      <td>600</td>\n",
              "      <td>425268</td>\n",
              "      <td>2</td>\n",
              "      <td>183298</td>\n",
              "      <td>0.5</td>\n",
              "      <td>2016-12-24 11:53:28</td>\n",
              "      <td>4</td>\n",
              "      <td>[Somalia]</td>\n",
              "      <td>34495</td>\n",
              "      <td>[Somalia]</td>\n",
              "      <td>Mohamed Farmaajo</td>\n",
              "      <td>217793</td>\n",
              "      <td>425266</td>\n",
              "      <td>4</td>\n",
              "      <td>3.0</td>\n",
              "    </tr>\n",
              "    <tr>\n",
              "      <th>13</th>\n",
              "      <td>@SudanPMHamdok</td>\n",
              "      <td>655</td>\n",
              "      <td>372141</td>\n",
              "      <td>115</td>\n",
              "      <td>169999</td>\n",
              "      <td>2.0</td>\n",
              "      <td>2019-08-23 07:28:09</td>\n",
              "      <td>3</td>\n",
              "      <td>[]</td>\n",
              "      <td>28830</td>\n",
              "      <td>[]</td>\n",
              "      <td>Abdalla Hamdok</td>\n",
              "      <td>198829</td>\n",
              "      <td>372026</td>\n",
              "      <td>3</td>\n",
              "      <td>4.0</td>\n",
              "    </tr>\n",
              "    <tr>\n",
              "      <th>15</th>\n",
              "      <td>@KagutaMuseveni</td>\n",
              "      <td>6646</td>\n",
              "      <td>1817077</td>\n",
              "      <td>28</td>\n",
              "      <td>164914</td>\n",
              "      <td>1.8</td>\n",
              "      <td>2010-03-27 15:08:09</td>\n",
              "      <td>3</td>\n",
              "      <td>[COVID19, WorldPopulationDay2020, Jinja, Arua,...</td>\n",
              "      <td>24455</td>\n",
              "      <td>[COVID19, WorldPopulationDay2020, Jinja, Arua,...</td>\n",
              "      <td>Yoweri K Museveni</td>\n",
              "      <td>189369</td>\n",
              "      <td>1817049</td>\n",
              "      <td>3</td>\n",
              "      <td>5.0</td>\n",
              "    </tr>\n",
              "  </tbody>\n",
              "</table>\n",
              "</div>"
            ],
            "text/plain": [
              "     twitter_handle  total_tweets_number  ...  relevance_score  Rank by popularity\n",
              "26      @NAkufoAddo                 7103  ...               18                 1.0\n",
              "10      @PaulKagame                 2864  ...                2                 2.0\n",
              "11      @M_Farmaajo                  600  ...                4                 3.0\n",
              "13   @SudanPMHamdok                  655  ...                3                 4.0\n",
              "15  @KagutaMuseveni                 6646  ...                3                 5.0\n",
              "\n",
              "[5 rows x 16 columns]"
            ]
          },
          "metadata": {
            "tags": []
          },
          "execution_count": 90
        }
      ]
    },
    {
      "cell_type": "code",
      "metadata": {
        "id": "aTuPzEL5CYPf",
        "colab_type": "code",
        "colab": {
          "base_uri": "https://localhost:8080/",
          "height": 924
        },
        "outputId": "29502f3e-86e3-4904-b089-76509c160f8a"
      },
      "source": [
        "fig,ax = plt.subplots(figsize=(12,8\n",
        "                            ))\n",
        "g=sns.barplot(x='twitter_name',y='Rank by popularity',data=top_10_popular_leaders)\n",
        "ax.set_xticklabels(top_10_popular_leaders['twitter_name'],rotation = 75)\n",
        "ax.set_title('Top 10 Africa Leaders popularity rank on Twitter(Numbers of retweets + number of likes')\n",
        "ax.set_ylabel('Popularity rank from 1 to 10')\n",
        "plt.savefig('popularity2.png')"
      ],
      "execution_count": 92,
      "outputs": [
        {
          "output_type": "stream",
          "text": [
            "/usr/local/lib/python3.6/dist-packages/matplotlib/backends/backend_agg.py:214: RuntimeWarning: Glyph 127464 missing from current font.\n",
            "  font.set_text(s, 0.0, flags=flags)\n",
            "/usr/local/lib/python3.6/dist-packages/matplotlib/backends/backend_agg.py:214: RuntimeWarning: Glyph 127465 missing from current font.\n",
            "  font.set_text(s, 0.0, flags=flags)\n",
            "/usr/local/lib/python3.6/dist-packages/matplotlib/backends/backend_agg.py:183: RuntimeWarning: Glyph 127464 missing from current font.\n",
            "  font.set_text(s, 0, flags=flags)\n",
            "/usr/local/lib/python3.6/dist-packages/matplotlib/backends/backend_agg.py:183: RuntimeWarning: Glyph 127465 missing from current font.\n",
            "  font.set_text(s, 0, flags=flags)\n"
          ],
          "name": "stderr"
        },
        {
          "output_type": "display_data",
          "data": {
            "image/png": "[encoded data removed]",
            "text/plain": [
              "<Figure size 864x576 with 1 Axes>"
            ]
          },
          "metadata": {
            "tags": []
          }
        }
      ]
    },
    {
      "cell_type": "code",
      "metadata": {
        "id": "jh8QCiCeDDim",
        "colab_type": "code",
        "colab": {
          "base_uri": "https://localhost:8080/",
          "height": 277
        },
        "outputId": "dad8d7b9-dd1e-4f49-93ac-5d76072abee8"
      },
      "source": [
        "null_columns= africa_influencers_df[africa_influencers_df['total_tweets_number'].isnull()]\n",
        "null_columns"
      ],
      "execution_count": 91,
      "outputs": [
        {
          "output_type": "execute_result",
          "data": {
            "text/html": [
              "<div>\n",
              "<style scoped>\n",
              "    .dataframe tbody tr th:only-of-type {\n",
              "        vertical-align: middle;\n",
              "    }\n",
              "\n",
              "    .dataframe tbody tr th {\n",
              "        vertical-align: top;\n",
              "    }\n",
              "\n",
              "    .dataframe thead th {\n",
              "        text-align: right;\n",
              "    }\n",
              "</style>\n",
              "<table border=\"1\" class=\"dataframe\">\n",
              "  <thead>\n",
              "    <tr style=\"text-align: right;\">\n",
              "      <th></th>\n",
              "      <th>twitter_handle</th>\n",
              "      <th>total_tweets_number</th>\n",
              "      <th>followers</th>\n",
              "      <th>following</th>\n",
              "      <th>total_tweets_likes</th>\n",
              "      <th>average_tweets_per_day</th>\n",
              "      <th>handle_creation_date</th>\n",
              "      <th>number_of_mentions</th>\n",
              "      <th>hashtags</th>\n",
              "      <th>number_of_retweets</th>\n",
              "      <th>twitter_names</th>\n",
              "      <th>popularity_score</th>\n",
              "      <th>reach_score</th>\n",
              "      <th>relevance_score</th>\n",
              "    </tr>\n",
              "  </thead>\n",
              "  <tbody>\n",
              "    <tr>\n",
              "      <th>12</th>\n",
              "      <td>@andBeyondSafari</td>\n",
              "      <td>NaN</td>\n",
              "      <td>NaN</td>\n",
              "      <td>NaN</td>\n",
              "      <td>NaN</td>\n",
              "      <td>NaN</td>\n",
              "      <td>NaT</td>\n",
              "      <td>NaN</td>\n",
              "      <td>NaN</td>\n",
              "      <td>NaN</td>\n",
              "      <td>NaN</td>\n",
              "      <td>NaN</td>\n",
              "      <td>NaN</td>\n",
              "      <td>NaN</td>\n",
              "    </tr>\n",
              "    <tr>\n",
              "      <th>26</th>\n",
              "      <td>@hurricanevaness</td>\n",
              "      <td>NaN</td>\n",
              "      <td>NaN</td>\n",
              "      <td>NaN</td>\n",
              "      <td>NaN</td>\n",
              "      <td>NaN</td>\n",
              "      <td>NaT</td>\n",
              "      <td>NaN</td>\n",
              "      <td>NaN</td>\n",
              "      <td>NaN</td>\n",
              "      <td>NaN</td>\n",
              "      <td>NaN</td>\n",
              "      <td>NaN</td>\n",
              "      <td>NaN</td>\n",
              "    </tr>\n",
              "    <tr>\n",
              "      <th>27</th>\n",
              "      <td>@BBCKarenAllen</td>\n",
              "      <td>NaN</td>\n",
              "      <td>NaN</td>\n",
              "      <td>NaN</td>\n",
              "      <td>NaN</td>\n",
              "      <td>NaN</td>\n",
              "      <td>NaT</td>\n",
              "      <td>NaN</td>\n",
              "      <td>NaN</td>\n",
              "      <td>NaN</td>\n",
              "      <td>NaN</td>\n",
              "      <td>NaN</td>\n",
              "      <td>NaN</td>\n",
              "      <td>NaN</td>\n",
              "    </tr>\n",
              "    <tr>\n",
              "      <th>33</th>\n",
              "      <td>@drewfhinshaw</td>\n",
              "      <td>NaN</td>\n",
              "      <td>NaN</td>\n",
              "      <td>NaN</td>\n",
              "      <td>NaN</td>\n",
              "      <td>NaN</td>\n",
              "      <td>NaT</td>\n",
              "      <td>NaN</td>\n",
              "      <td>NaN</td>\n",
              "      <td>NaN</td>\n",
              "      <td>NaN</td>\n",
              "      <td>NaN</td>\n",
              "      <td>NaN</td>\n",
              "      <td>NaN</td>\n",
              "    </tr>\n",
              "    <tr>\n",
              "      <th>50</th>\n",
              "      <td>@Afrinnovator</td>\n",
              "      <td>NaN</td>\n",
              "      <td>NaN</td>\n",
              "      <td>NaN</td>\n",
              "      <td>NaN</td>\n",
              "      <td>NaN</td>\n",
              "      <td>NaT</td>\n",
              "      <td>NaN</td>\n",
              "      <td>NaN</td>\n",
              "      <td>NaN</td>\n",
              "      <td>NaN</td>\n",
              "      <td>NaN</td>\n",
              "      <td>NaN</td>\n",
              "      <td>NaN</td>\n",
              "    </tr>\n",
              "    <tr>\n",
              "      <th>64</th>\n",
              "      <td>@The_New_Age</td>\n",
              "      <td>NaN</td>\n",
              "      <td>NaN</td>\n",
              "      <td>NaN</td>\n",
              "      <td>NaN</td>\n",
              "      <td>NaN</td>\n",
              "      <td>NaT</td>\n",
              "      <td>NaN</td>\n",
              "      <td>NaN</td>\n",
              "      <td>NaN</td>\n",
              "      <td>NaN</td>\n",
              "      <td>NaN</td>\n",
              "      <td>NaN</td>\n",
              "      <td>NaN</td>\n",
              "    </tr>\n",
              "    <tr>\n",
              "      <th>87</th>\n",
              "      <td>@702JohnRobbie</td>\n",
              "      <td>NaN</td>\n",
              "      <td>NaN</td>\n",
              "      <td>NaN</td>\n",
              "      <td>NaN</td>\n",
              "      <td>NaN</td>\n",
              "      <td>NaT</td>\n",
              "      <td>NaN</td>\n",
              "      <td>NaN</td>\n",
              "      <td>NaN</td>\n",
              "      <td>NaN</td>\n",
              "      <td>NaN</td>\n",
              "      <td>NaN</td>\n",
              "      <td>NaN</td>\n",
              "    </tr>\n",
              "  </tbody>\n",
              "</table>\n",
              "</div>"
            ],
            "text/plain": [
              "      twitter_handle  total_tweets_number  ...  reach_score  relevance_score\n",
              "12  @andBeyondSafari                  NaN  ...          NaN              NaN\n",
              "26  @hurricanevaness                  NaN  ...          NaN              NaN\n",
              "27    @BBCKarenAllen                  NaN  ...          NaN              NaN\n",
              "33     @drewfhinshaw                  NaN  ...          NaN              NaN\n",
              "50     @Afrinnovator                  NaN  ...          NaN              NaN\n",
              "64      @The_New_Age                  NaN  ...          NaN              NaN\n",
              "87    @702JohnRobbie                  NaN  ...          NaN              NaN\n",
              "\n",
              "[7 rows x 14 columns]"
            ]
          },
          "metadata": {
            "tags": []
          },
          "execution_count": 91
        }
      ]
    },
    {
      "cell_type": "markdown",
      "metadata": {
        "id": "9c3aUvNFEkaD",
        "colab_type": "text"
      },
      "source": [
        "This twitter handles are either not existing again or they have been banned, we will drop this columns so it does not affect our analysis\n",
        "\n"
      ]
    },
    {
      "cell_type": "code",
      "metadata": {
        "id": "Ld2EAkPZFFbB",
        "colab_type": "code",
        "colab": {
          "base_uri": "https://localhost:8080/",
          "height": 34
        },
        "outputId": "5aec4012-2bff-4a44-c3c4-60c496d75326"
      },
      "source": [
        "twitter_handles_of_null = null_columns['twitter_handle']\n",
        "print(list(twitter_handles_of_null))"
      ],
      "execution_count": 94,
      "outputs": [
        {
          "output_type": "stream",
          "text": [
            "['@andBeyondSafari', '@hurricanevaness', '@BBCKarenAllen', '@drewfhinshaw', '@Afrinnovator', '@The_New_Age', '@702JohnRobbie']\n"
          ],
          "name": "stdout"
        }
      ]
    },
    {
      "cell_type": "code",
      "metadata": {
        "id": "NQ4ESj_6GzVO",
        "colab_type": "code",
        "colab": {}
      },
      "source": [
        "africa_influencers_df.dropna(axis=0,inplace=True)"
      ],
      "execution_count": 95,
      "outputs": []
    },
    {
      "cell_type": "code",
      "metadata": {
        "id": "nyzlOPk3LSM4",
        "colab_type": "code",
        "colab": {}
      },
      "source": [
        "#africa_leaders_dict['hashtags']"
      ],
      "execution_count": null,
      "outputs": []
    },
    {
      "cell_type": "code",
      "metadata": {
        "id": "N83YscJQHmrM",
        "colab_type": "code",
        "colab": {}
      },
      "source": [
        "list4 = []\n",
        "for twitter_handles in list(africa_influencers_df['hashtags']):\n",
        "  if type(twitter_handles) == list:\n",
        "    list2 = []\n",
        "    for item,count in Counter(twitter_handles).most_common(5):\n",
        "      list2.append(item)\n",
        "    list4.append(list2)\n",
        "  else:\n",
        "    list4.append(0)"
      ],
      "execution_count": 96,
      "outputs": []
    },
    {
      "cell_type": "code",
      "metadata": {
        "id": "BJA9PWstMdG6",
        "colab_type": "code",
        "colab": {}
      },
      "source": [
        "#len(list1)\n",
        "africa_influencers_df['most_used_hashtags'] = list4"
      ],
      "execution_count": 97,
      "outputs": []
    },
    {
      "cell_type": "code",
      "metadata": {
        "id": "beZhcwpxJwvm",
        "colab_type": "code",
        "colab": {
          "base_uri": "https://localhost:8080/",
          "height": 667
        },
        "outputId": "f7ffbfeb-4aaf-447f-9363-36abea39f352"
      },
      "source": [
        "top_ten_most_popular_influencers = africa_influencers_df.sort_values(by='popularity_score',ascending=False).head(10)\n",
        "top_ten_most_popular_influencers"
      ],
      "execution_count": 98,
      "outputs": [
        {
          "output_type": "execute_result",
          "data": {
            "text/html": [
              "<div>\n",
              "<style scoped>\n",
              "    .dataframe tbody tr th:only-of-type {\n",
              "        vertical-align: middle;\n",
              "    }\n",
              "\n",
              "    .dataframe tbody tr th {\n",
              "        vertical-align: top;\n",
              "    }\n",
              "\n",
              "    .dataframe thead th {\n",
              "        text-align: right;\n",
              "    }\n",
              "</style>\n",
              "<table border=\"1\" class=\"dataframe\">\n",
              "  <thead>\n",
              "    <tr style=\"text-align: right;\">\n",
              "      <th></th>\n",
              "      <th>twitter_handle</th>\n",
              "      <th>total_tweets_number</th>\n",
              "      <th>followers</th>\n",
              "      <th>following</th>\n",
              "      <th>total_tweets_likes</th>\n",
              "      <th>average_tweets_per_day</th>\n",
              "      <th>handle_creation_date</th>\n",
              "      <th>number_of_mentions</th>\n",
              "      <th>hashtags</th>\n",
              "      <th>number_of_retweets</th>\n",
              "      <th>twitter_names</th>\n",
              "      <th>popularity_score</th>\n",
              "      <th>reach_score</th>\n",
              "      <th>relevance_score</th>\n",
              "      <th>most_used_hashtags</th>\n",
              "    </tr>\n",
              "  </thead>\n",
              "  <tbody>\n",
              "    <tr>\n",
              "      <th>99</th>\n",
              "      <td>@Trevornoah</td>\n",
              "      <td>11186.0</td>\n",
              "      <td>10812257.0</td>\n",
              "      <td>325.0</td>\n",
              "      <td>1359545.0</td>\n",
              "      <td>2.8</td>\n",
              "      <td>2009-06-11 07:03:48</td>\n",
              "      <td>11.0</td>\n",
              "      <td>[]</td>\n",
              "      <td>272266.0</td>\n",
              "      <td>Trevor Noah</td>\n",
              "      <td>1631811.0</td>\n",
              "      <td>10811932.0</td>\n",
              "      <td>11.0</td>\n",
              "      <td>[]</td>\n",
              "    </tr>\n",
              "    <tr>\n",
              "      <th>95</th>\n",
              "      <td>@Julius_S_Malema</td>\n",
              "      <td>37224.0</td>\n",
              "      <td>3132856.0</td>\n",
              "      <td>651.0</td>\n",
              "      <td>372528.0</td>\n",
              "      <td>9.8</td>\n",
              "      <td>2010-02-24 14:58:49</td>\n",
              "      <td>43.0</td>\n",
              "      <td>[EFFTurns7, JuliusMalema, BlackLivesMatter, RI...</td>\n",
              "      <td>82114.0</td>\n",
              "      <td>Julius Sello Malema</td>\n",
              "      <td>454642.0</td>\n",
              "      <td>3132205.0</td>\n",
              "      <td>43.0</td>\n",
              "      <td>[EFFTurns7, JuliusMalema, BlackLivesMatter, RI...</td>\n",
              "    </tr>\n",
              "    <tr>\n",
              "      <th>60</th>\n",
              "      <td>@MbuyiseniNdlozi</td>\n",
              "      <td>36056.0</td>\n",
              "      <td>1081535.0</td>\n",
              "      <td>5471.0</td>\n",
              "      <td>245274.0</td>\n",
              "      <td>11.6</td>\n",
              "      <td>2012-01-04 14:28:42</td>\n",
              "      <td>31.0</td>\n",
              "      <td>[EFFTurns7, EFFTurns7, Covid_19, COVID19, BREA...</td>\n",
              "      <td>40223.0</td>\n",
              "      <td>Mbuyiseni Ndlozi</td>\n",
              "      <td>285497.0</td>\n",
              "      <td>1076064.0</td>\n",
              "      <td>31.0</td>\n",
              "      <td>[EFFTurns7, COVID19, Covid_19, BREAKING]</td>\n",
              "    </tr>\n",
              "    <tr>\n",
              "      <th>86</th>\n",
              "      <td>@UlrichJvV</td>\n",
              "      <td>20012.0</td>\n",
              "      <td>1042235.0</td>\n",
              "      <td>530184.0</td>\n",
              "      <td>51363.0</td>\n",
              "      <td>5.1</td>\n",
              "      <td>2009-10-10 07:33:26</td>\n",
              "      <td>41.0</td>\n",
              "      <td>[ValuesAndMoney, ValuesAndMoney, BuildingMyFut...</td>\n",
              "      <td>5978.0</td>\n",
              "      <td>Ulrich Janse van Vuuren</td>\n",
              "      <td>57341.0</td>\n",
              "      <td>512051.0</td>\n",
              "      <td>41.0</td>\n",
              "      <td>[ValuesAndMoney, StretchingMyBudget, BuildingM...</td>\n",
              "    </tr>\n",
              "    <tr>\n",
              "      <th>85</th>\n",
              "      <td>@euphonik</td>\n",
              "      <td>4559.0</td>\n",
              "      <td>1756434.0</td>\n",
              "      <td>65.0</td>\n",
              "      <td>30428.0</td>\n",
              "      <td>1.1</td>\n",
              "      <td>2009-02-18 18:36:47</td>\n",
              "      <td>46.0</td>\n",
              "      <td>[WorkMode, euNITE947, Eunite, euNITE947, euNIT...</td>\n",
              "      <td>3556.0</td>\n",
              "      <td>Euphonik™♛</td>\n",
              "      <td>33984.0</td>\n",
              "      <td>1756369.0</td>\n",
              "      <td>46.0</td>\n",
              "      <td>[euNITE947, WorkMode, Eunite]</td>\n",
              "    </tr>\n",
              "    <tr>\n",
              "      <th>88</th>\n",
              "      <td>@OfficialCSA</td>\n",
              "      <td>88553.0</td>\n",
              "      <td>1160236.0</td>\n",
              "      <td>1995.0</td>\n",
              "      <td>15945.0</td>\n",
              "      <td>21.8</td>\n",
              "      <td>2009-06-09 14:27:09</td>\n",
              "      <td>31.0</td>\n",
              "      <td>[MandelaDay, Blacklivesmatter, Mandeladay, sol...</td>\n",
              "      <td>2363.0</td>\n",
              "      <td>Cricket South Africa</td>\n",
              "      <td>18308.0</td>\n",
              "      <td>1158241.0</td>\n",
              "      <td>31.0</td>\n",
              "      <td>[SolidarityCup, 3TCricket, BlackLivesMatter, R...</td>\n",
              "    </tr>\n",
              "    <tr>\n",
              "      <th>98</th>\n",
              "      <td>@GarethCliff</td>\n",
              "      <td>31628.0</td>\n",
              "      <td>1974684.0</td>\n",
              "      <td>356.0</td>\n",
              "      <td>14397.0</td>\n",
              "      <td>7.5</td>\n",
              "      <td>2008-12-08 13:20:23</td>\n",
              "      <td>45.0</td>\n",
              "      <td>[CliffCentralApp, Lockdown, Covid19, SoWhatNow...</td>\n",
              "      <td>2878.0</td>\n",
              "      <td>Gareth Cliff</td>\n",
              "      <td>17275.0</td>\n",
              "      <td>1974328.0</td>\n",
              "      <td>45.0</td>\n",
              "      <td>[SoWhatNow, CliffCentralApp, Lockdown, Covid19...</td>\n",
              "    </tr>\n",
              "    <tr>\n",
              "      <th>96</th>\n",
              "      <td>@News24</td>\n",
              "      <td>323113.0</td>\n",
              "      <td>3580555.0</td>\n",
              "      <td>632.0</td>\n",
              "      <td>11723.0</td>\n",
              "      <td>72.5</td>\n",
              "      <td>2008-05-08 07:45:58</td>\n",
              "      <td>5.0</td>\n",
              "      <td>[]</td>\n",
              "      <td>3468.0</td>\n",
              "      <td>News24</td>\n",
              "      <td>15191.0</td>\n",
              "      <td>3579923.0</td>\n",
              "      <td>5.0</td>\n",
              "      <td>[]</td>\n",
              "    </tr>\n",
              "    <tr>\n",
              "      <th>0</th>\n",
              "      <td>@gettleman</td>\n",
              "      <td>3773.0</td>\n",
              "      <td>25709.0</td>\n",
              "      <td>37.0</td>\n",
              "      <td>10183.0</td>\n",
              "      <td>1.1</td>\n",
              "      <td>2011-05-25 17:49:42</td>\n",
              "      <td>39.0</td>\n",
              "      <td>[COVID19, PLA, IndianArmy, COVID19]</td>\n",
              "      <td>3952.0</td>\n",
              "      <td>Jeffrey Gettleman</td>\n",
              "      <td>14135.0</td>\n",
              "      <td>25672.0</td>\n",
              "      <td>39.0</td>\n",
              "      <td>[COVID19, PLA, IndianArmy]</td>\n",
              "    </tr>\n",
              "    <tr>\n",
              "      <th>49</th>\n",
              "      <td>@schneiderhome</td>\n",
              "      <td>32747.0</td>\n",
              "      <td>26432.0</td>\n",
              "      <td>1012.0</td>\n",
              "      <td>9464.0</td>\n",
              "      <td>9.3</td>\n",
              "      <td>2010-11-12 12:22:14</td>\n",
              "      <td>23.0</td>\n",
              "      <td>[ourNHS, GreenNewDeal, StrikeForBlackLives]</td>\n",
              "      <td>2695.0</td>\n",
              "      <td>James Schneider</td>\n",
              "      <td>12159.0</td>\n",
              "      <td>25420.0</td>\n",
              "      <td>23.0</td>\n",
              "      <td>[ourNHS, GreenNewDeal, StrikeForBlackLives]</td>\n",
              "    </tr>\n",
              "  </tbody>\n",
              "</table>\n",
              "</div>"
            ],
            "text/plain": [
              "      twitter_handle  ...                                 most_used_hashtags\n",
              "99       @Trevornoah  ...                                                 []\n",
              "95  @Julius_S_Malema  ...  [EFFTurns7, JuliusMalema, BlackLivesMatter, RI...\n",
              "60  @MbuyiseniNdlozi  ...           [EFFTurns7, COVID19, Covid_19, BREAKING]\n",
              "86        @UlrichJvV  ...  [ValuesAndMoney, StretchingMyBudget, BuildingM...\n",
              "85         @euphonik  ...                      [euNITE947, WorkMode, Eunite]\n",
              "88      @OfficialCSA  ...  [SolidarityCup, 3TCricket, BlackLivesMatter, R...\n",
              "98      @GarethCliff  ...  [SoWhatNow, CliffCentralApp, Lockdown, Covid19...\n",
              "96           @News24  ...                                                 []\n",
              "0         @gettleman  ...                         [COVID19, PLA, IndianArmy]\n",
              "49    @schneiderhome  ...        [ourNHS, GreenNewDeal, StrikeForBlackLives]\n",
              "\n",
              "[10 rows x 15 columns]"
            ]
          },
          "metadata": {
            "tags": []
          },
          "execution_count": 98
        }
      ]
    },
    {
      "cell_type": "code",
      "metadata": {
        "id": "BkAW8djAQAdt",
        "colab_type": "code",
        "colab": {}
      },
      "source": [
        "top_ten_most_popular_influencers['Popularity_rank'] = top_ten_most_popular_influencers['popularity_score'].rank(ascending=False)"
      ],
      "execution_count": 99,
      "outputs": []
    },
    {
      "cell_type": "code",
      "metadata": {
        "id": "sVQMiKpQR9xe",
        "colab_type": "code",
        "colab": {
          "base_uri": "https://localhost:8080/",
          "height": 621
        },
        "outputId": "05825715-9145-4e52-a07c-38354c81bf44"
      },
      "source": [
        "fig,ax = plt.subplots(figsize=(12,8\n",
        "                            ))\n",
        "g=sns.barplot(x='twitter_names',y='popularity_score',data=top_ten_most_popular_influencers)\n",
        "ax.set_xticklabels(top_ten_most_popular_influencers['twitter_names'],rotation = 75)\n",
        "ax.set_title('Top 10 Africa Influencers popularity on Twitter(Numbers of retweets + number of likes')\n",
        "ax.set_ylabel('Popularity number in millions')\n",
        "ax.set_yscale('log')\n",
        "plt.savefig('popularity_influence1.png')"
      ],
      "execution_count": 100,
      "outputs": [
        {
          "output_type": "display_data",
          "data": {
            "image/png": "[encoded data removed]",
            "text/plain": [
              "<Figure size 864x576 with 1 Axes>"
            ]
          },
          "metadata": {
            "tags": []
          }
        }
      ]
    },
    {
      "cell_type": "code",
      "metadata": {
        "id": "j5YhjNmVUkhv",
        "colab_type": "code",
        "colab": {
          "base_uri": "https://localhost:8080/",
          "height": 621
        },
        "outputId": "f9f014f8-18f7-4733-f80a-cc9a23a49892"
      },
      "source": [
        "fig,ax = plt.subplots(figsize=(12,8\n",
        "                            ))\n",
        "g=sns.barplot(x='twitter_names',y='Popularity_rank',data=top_ten_most_popular_influencers)\n",
        "ax.set_xticklabels(top_ten_most_popular_influencers['twitter_names'],rotation = 75)\n",
        "ax.set_title('Top 10 Africa Influencers popularity rank on Twitter(Numbers of retweets + number of likes')\n",
        "ax.set_ylabel('Popularity rank from 1 to 10')\n",
        "plt.savefig('popularity_influence2.png')"
      ],
      "execution_count": 101,
      "outputs": [
        {
          "output_type": "display_data",
          "data": {
            "image/png": "[encoded data removed]",
            "text/plain": [
              "<Figure size 864x576 with 1 Axes>"
            ]
          },
          "metadata": {
            "tags": []
          }
        }
      ]
    },
    {
      "cell_type": "code",
      "metadata": {
        "id": "NJqPo39cVZ9T",
        "colab_type": "code",
        "colab": {}
      },
      "source": [
        "top_10_most_reached_leader = africa_leaders_df.sort_values(by='reach_score',ascending=False).head(10)"
      ],
      "execution_count": 102,
      "outputs": []
    },
    {
      "cell_type": "code",
      "metadata": {
        "id": "ZuX456lyWovs",
        "colab_type": "code",
        "colab": {}
      },
      "source": [
        "top_10_most_reached_leader['reach_rank_score'] = top_10_most_reached_leader['reach_score'].rank(ascending=False)"
      ],
      "execution_count": 103,
      "outputs": []
    },
    {
      "cell_type": "code",
      "metadata": {
        "id": "TJzG5HOPXqc_",
        "colab_type": "code",
        "colab": {}
      },
      "source": [
        "top_10_most_reached_influencer = africa_influencers_df.sort_values(by='reach_score',ascending=False).head(10)"
      ],
      "execution_count": 104,
      "outputs": []
    },
    {
      "cell_type": "code",
      "metadata": {
        "id": "GotB3BIRYgXU",
        "colab_type": "code",
        "colab": {}
      },
      "source": [
        "top_10_most_reached_influencer['reach_rank_score'] = top_10_most_reached_influencer['reach_score'].rank(ascending=False)"
      ],
      "execution_count": 105,
      "outputs": []
    },
    {
      "cell_type": "code",
      "metadata": {
        "id": "RF_O1L0M0xEW",
        "colab_type": "code",
        "colab": {
          "base_uri": "https://localhost:8080/",
          "height": 160
        },
        "outputId": "50ec3b99-7640-4f8a-9f4d-b580dc557f1e"
      },
      "source": [
        "africa_leaders_df.to_csv(index=False)"
      ],
      "execution_count": 106,
      "outputs": [
        {
          "output_type": "execute_result",
          "data": {
            "application/vnd.google.colaboratory.intrinsic": {
              "type": "string"
            },
            "text/plain": [
              "'twitter_handle,total_tweets_number,followers,following,total_tweets_likes,average_tweets_per_day,handle_creation_date,number_of_mentions,hashtags,number_of_retweets,most_used_hashtags,twitter_name,popularity_score,reach_score,relevance_score\\n@EswatiniGovern1,1686,11352,82,1889,5.9,2019-10-09 07:33:24,1,\"[\\'COVID19\\', \\'COVID19\\', \\'COVID19\\', \\'COVID19\\', \\'COVID19\\', \\'COVID19\\', \\'COVID19\\', \\'COVID19\\', \\'COVID19\\', \\'COVID19\\', \\'COVID19\\', \\'COVID19\\', \\'COVID19\\', \\'COVID19\\']\",585,[\\'COVID19\\'],Eswatini Government,2474,11270,1\\n@MalawiGovt,4031,39430,26,8617,1.7,2013-11-12 09:15:34,17,\"[\\'Malawi\\', \\'MalawiCabinet\\', \\'MalawiCabinet\\', \\'MalawiCabinet\\', \\'MalawiCabinet\\', \\'MalawiCabinet\\', \\'MalawiCabinet\\', \\'IndependenceDay\\', \\'Malawi\\', \\'InaugurationMalawi2020\\', \\'InaugurationMalawi2020\\', \\'InaugurationMalawi2020\\', \\'InaugurationMalawi2020\\', \\'InaugurationMalawi2020\\', \\'InaugurationMalawi2020\\', \\'Malawi\\', \\'InaugurationMalawi2020\\', \\'InaugurationMalawi2020\\', \\'Malawi\\']\",2618,\"[\\'InaugurationMalawi2020\\', \\'MalawiCabinet\\', \\'Malawi\\', \\'IndependenceDay\\']\",Malawi Government,11235,39404,17\\n@hagegeingob,1087,192774,55,35162,0.5,2014-05-22 17:17:17,1,\"[\\'ZindziMandela\\', \\'DRC\\', \\'HappyFathersDay2020\\']\",4836,\"[\\'ZindziMandela\\', \\'DRC\\', \\'HappyFathersDay2020\\']\",Hage G. Geingob,39998,192719,1\\n@FinanceSC,126,127,224,124,1.0,2020-03-17 11:14:52,0,[],18,[],Seychelles Ministry of Finance,142,-97,0\\n@PresidencyZA,18888,1600977,14,12578,4.6,2009-05-18 08:38:44,8,\"[\\'Ramaphosa\\', \\'MandelaDay\\', \\'Ramaphosa\\', \\'Ramaphosa\\', \\'Ramaphosa\\', \\'Ramaphosa\\', \\'Ramaphosa\\', \\'Ramaphosa\\', \\'Ramaphosa\\', \\'Ramaphosa\\', \\'COVID19\\', \\'Ramaphosa\\', \\'Ramaphosa\\', \\'Ramaphosa\\', \\'Ramaphosa\\', \\'Ramaphosa\\', \\'Ramaphosa\\', \\'Ramaphosa\\', \\'Ramaphosa\\', \\'Ramaphosa\\', \\'Ramaphosa\\', \\'Ramaphosa\\', \\'Ramaphosa\\']\",5137,\"[\\'Ramaphosa\\', \\'MandelaDay\\', \\'COVID19\\']\",Presidency | South Africa 🇿🇦,17715,1600963,8\\n@mohzambia,838,7211,95,1300,0.3,2013-02-20 09:57:22,1,\"[\\'COVID19\\', \\'COVID19\\', \\'COVID19\\', \\'COVID19\\', \\'ParentingMonth\\', \\'COVID19\\', \\'COVID19\\']\",608,\"[\\'COVID19\\', \\'ParentingMonth\\']\",Ministry of Health Zambia,1908,7116,1\\n@edmnangagwa,628,547553,116,131368,0.2,2011-12-27 11:26:29,3,[\\'4thOfJuly\\'],29540,[\\'4thOfJuly\\'],President of Zimbabwe,160908,547437,3\\n@MinSantedj,1066,2937,127,794,1.0,2017-08-06 18:40:36,10,\"[\\'COVID19\\', \\'Hackathon\\', \\'France\\', \\'Djibouti\\', \\'France\\', \\'Djibouti\\']\",348,\"[\\'France\\', \\'Djibouti\\', \\'COVID19\\', \\'Hackathon\\']\",MinSantédj,1142,2810,10\\n@hawelti,4725,66501,435,14743,1.5,2011-12-16 14:17:44,3,\"[\\'Eritrea\\', \\'Ethiopia\\', \\'Eritrea\\', \\'Eritrea\\', \\'Eritrea\\', \\'Eritrea\\', \\'Eritrea\\', \\'Eritrea\\', \\'Eritrea\\', \\'Teleferica\\', \\'Italians\\', \\'Eritrea\\', \\'Eritrea\\']\",5688,\"[\\'Eritrea\\', \\'Ethiopia\\', \\'Teleferica\\', \\'Italians\\']\",Yemane G. Meskel,20431,66066,3\\n@StateHouseKenya,9055,1105403,214,57201,2.8,2011-08-30 12:22:23,3,\"[\\'Covid19\\', \\'Covid_19\\', \\'JukumuniSisi\\', \\'KomeshaCorona\\', \\'COVIDー19\\', \\'JukumuniSisi\\']\",13851,\"[\\'JukumuniSisi\\', \\'Covid19\\', \\'Covid_19\\', \\'KomeshaCorona\\', \\'COVIDー19\\']\",State House Kenya,71052,1105189,3\\n@PaulKagame,2864,1988358,181,342946,0.7,2009-05-04 05:16:24,2,[],73407,[],Paul Kagame,416353,1988177,2\\n@M_Farmaajo,600,425268,2,183298,0.5,2016-12-24 11:53:28,4,[\\'Somalia\\'],34495,[\\'Somalia\\'],Mohamed Farmaajo,217793,425266,4\\n@SouthSudanGov,209,2565,463,1626,0.2,2017-05-26 17:14:19,13,\"[\\'Kiir\\', \\'Covid19ss\\', \\'AUMISS\\', \\'SRCC\\', \\'Biswaro\\', \\'SSOT\\', \\'goodrelations\\', \\'SouthSudan\\', \\'UnitedNations\\', \\'SouthSudan\\']\",673,\"[\\'SouthSudan\\', \\'Kiir\\', \\'Covid19ss\\', \\'AUMISS\\', \\'SRCC\\']\",South Sudan Government,2299,2102,13\\n@SudanPMHamdok,655,372141,115,169999,2.0,2019-08-23 07:28:09,3,[],28830,[],Abdalla Hamdok,198829,372026,3\\n@TZSpokesperson,836,4042,32,3424,1.0,2018-03-21 18:18:58,5,[],1102,[],TanzaniaSpokesperson,4526,4010,5\\n@KagutaMuseveni,6646,1817077,28,164914,1.8,2010-03-27 15:08:09,3,\"[\\'COVID19\\', \\'WorldPopulationDay2020\\', \\'Jinja\\', \\'Arua\\', \\'Gulu\\', \\'Masaka\\', \\'FortPortal\\', \\'Mbarara\\', \\'Mbale\\']\",24455,\"[\\'COVID19\\', \\'WorldPopulationDay2020\\', \\'Jinja\\', \\'Arua\\', \\'Gulu\\']\",Yoweri K Museveni,189369,1817049,3\\n@angola_Mirex,732,3274,312,2750,0.8,2018-02-04 11:07:54,0,[],766,[],MOFA/MRE -(Angola),3516,2962,0\\n@willynyamitwe,40684,107491,4660,12947,12.4,2011-07-17 16:07:19,42,\"[\\'Burundi\\', \\'Burundi\\', \\'Burundi\\', \\'Burundi\\', \\'Burundi\\', \\'Burundi\\', \\'Brazzaville\\', \\'RDCongo\\', \\'COUSP\\']\",5509,\"[\\'Burundi\\', \\'Brazzaville\\', \\'RDCongo\\', \\'COUSP\\']\",Amb. Willy Nyamitwe,18456,102831,42\\n@Cherif_MZ,754,18799,196,21109,0.3,2013-12-10 03:45:51,7,[],2536,[],Chérif Mahamat Zene,23645,18603,7\\n@Presidence_RDC,1652,342008,125,67078,1.3,2017-01-07 14:17:29,0,\"[\\'RDC\\', \\'PalaisdeJustice\\', \\'RDC\\', \\'CitéUA\\', \\'RDC\\', \\'RDC\\', \\'RDC\\', \\'CitéUA\\', \\'RDC\\', \\'CitéUA\\', \\'RDC\\', \\'RDC\\', \\'PalaisdelaNation\\', \\'RDC\\', \\'CitéUA\\', \\'RDC\\', \\'CitéUA\\', \\'RDC\\', \\'PalaisdelaNation\\', \\'RDC\\', \\'PalaisdelaNation\\', \\'RDC\\', \\'Indépendance\\', \\'RDC\\', \\'Independance60ans\\', \\'RDC\\', \\'RDC\\', \\'CitéUA\\', \\'RDC\\', \\'RDC\\', \\'RDC\\', \\'CitéUA\\']\",8905,\"[\\'RDC\\', \\'CitéUA\\', \\'PalaisdelaNation\\', \\'PalaisdeJustice\\', \\'Indépendance\\']\",Présidence RDC 🇨🇩,75983,341883,0\\n@PresidentABO,1738,173943,4,32806,0.9,2015-02-08 18:11:21,0,\"[\\'Education\\', \\'Gabon\\', \\'Gabon\\']\",7640,\"[\\'Gabon\\', \\'Education\\']\",Ali Bongo Ondimba,40446,173939,0\\n@PresidenceBenin,5653,30237,66,2300,2.7,2014-10-31 21:52:07,30,\"[\\'eresultatsbj\\', \\'BeninNumerique\\', \\'Wasexo\\', \\'Gouvbenin\\', \\'Wasexo\\', \\'ElevageBenin\\', \\'CommerceBenin\\', \\'FinancesBenin\\', \\'Wasexo\\', \\'IndependanceBenin\\', \\'Ptbenin\\', \\'Wasexo\\', \\'ConseilDesMinistres\\', \\'ConseilDesMinistres\\', \\'Prbenin\\', \\'digitalisation\\', \\'Benin\\', \\'MS\\', \\'BenjaminHOUNKPATIN\\', \\'MS\\', \\'PrBenin\\', \\'PatriceTALON\\', \\'PrCi\\', \\'CORONAVIRUS\\', \\'ConseilDesMinistres\\', \\'Prbenin\\', \\'ConseilDesMinistres\\', \\'Wasexo\\', \\'Prbenin\\', \\'ConseilDesMinistres\\', \\'Wasexo\\', \\'Gouvbenin\\', \\'ConseilDesMinistres\\', \\'Prbenin\\']\",931,\"[\\'Wasexo\\', \\'ConseilDesMinistres\\', \\'Prbenin\\', \\'Gouvbenin\\', \\'MS\\']\",Présidence du Bénin,3231,30171,30\\n@rochkaborepf,4500,256768,151,20962,2.4,2015-07-01 15:42:09,20,\"[\\'BurkinaFaso\\', \\'BurkinaFaso\\', \\'Lwili\\', \\'Mauritanie\\', \\'G5Sahel\\', \\'BurkinaFaso\\', \\'G5Sahel\\', \\'G5Sahel\\', \\'G5Sahel\\', \\'France\\', \\'BurkinaFaso\\', \\'G5Sahel\\']\",3328,\"[\\'G5Sahel\\', \\'BurkinaFaso\\', \\'Lwili\\', \\'Mauritanie\\', \\'France\\']\",Roch KABORE,24290,256617,20\\n@PresidenciaCV,717,3291,888,174,0.2,2012-05-14 16:46:51,0,[],66,[],Presidente Cabo Verde,240,2403,0\\n@AOuattara_PRCI,7141,834846,23,43849,1.8,2009-10-29 10:32:52,3,[],6620,[],Alassane Ouattara,50469,834823,3\\n@Presidency_GMB,1443,10798,27,3696,1.8,2018-05-21 15:24:07,14,\"[\\'DidYouKnow\\', \\'Covid19\\', \\'Gambia\\', \\'Gambia\\', \\'Covid19Gambia\\', \\'Gambia\\', \\'Covid19Gambia\\', \\'gambia\\', \\'Gambia\\', \\'Gambia\\', \\'Turkish\\', \\'Gambia\\', \\'police\\']\",1108,\"[\\'Gambia\\', \\'Covid19Gambia\\', \\'DidYouKnow\\', \\'Covid19\\', \\'gambia\\']\",State House of The Gambia,4804,10771,14\\n@NAkufoAddo,7103,1511141,352,649859,2.1,2011-02-04 10:14:22,18,\"[\\'RegisterToVote2020\\', \\'4MoreToDoMoreForYou\\', \\'RegisterToVote2020\\', \\'4MoreToDoMoreForYou\\', \\'FellowGhanaians\\', \\'FightCOVID19\\', \\'ThisTooShallPass\\', \\'FightCovid19\\', \\'GovtThisWeek\\', \\'4MoreToDoMoreForYou\\', \\'GovtThisWeek\\', \\'4MoreToDoMoreForYou\\', \\'RegisterToVote2020\\', \\'4MoreToDoMoreForYou\\', \\'RegisterToVote2020\\', \\'4MoreToDoMoreForYou\\', \\'RegisterToVote2020\\', \\'4MoreToDoMoreForYou\\', \\'RegisterToVote2020\\', \\'4MoreToDoMoreForYou\\', \\'RegisterToVote2020\\', \\'RegisterToVote2020\\', \\'4MoreToDoMoreForYou\\', \\'RegisterToVote2020\\', \\'4MoreToDoMoreForYou\\', \\'4MoreToDoMoreForYou\\', \\'RegisterToVote2020\\', \\'4MoreToDoMoreForYou\\', \\'RegisterToVote2020\\', \\'4MoreToDoMoreForYou\\', \\'RegisterToVote2020\\']\",112518,\"[\\'4MoreToDoMoreForYou\\', \\'RegisterToVote2020\\', \\'GovtThisWeek\\', \\'FellowGhanaians\\', \\'FightCOVID19\\']\",Nana Akufo-Addo,762377,1510789,18\\n@President_GN,21,741,29,604,0.1,2019-12-18 09:48:04,1,[\\'COVID19\\'],130,[\\'COVID19\\'],Alpha CONDÉ,734,712,1\\n@USEmbalo,828,8483,181,13135,0.5,2016-05-18 09:55:25,2,\"[\\'Portugal\\', \\'Guiné\\']\",1590,\"[\\'Portugal\\', \\'Guiné\\']\",Umaro Sissoco Embalo,14725,8302,2\\n@PresidenceMali,11169,229265,1001,12600,3.5,2011-10-12 14:14:49,0,\"[\\'ORTM\\', \\'Urgent\\', \\'ORTM\\', \\'Urgent\\', \\'Mali\\', \\'Mali\\']\",2324,\"[\\'ORTM\\', \\'Urgent\\', \\'Mali\\']\",Presidence Mali,14924,228264,0\\n@CheikhGhazouani,30,31843,9,63353,0.1,2019-12-19 20:59:01,0,[],7938,[],Mohamed Cheikh El Ghazouani محمد ولدالشيخ الغزواني,71291,31834,0\\n@IssoufouMhm,349,116541,17,50084,0.2,2016-01-17 16:40:36,0,[\\'ZLECAf\\'],8579,[\\'ZLECAf\\'],Issoufou Mahamadou,58663,116524,0\\n@MBuhari,4737,3276245,26,110684,2.3,2014-12-22 08:56:35,1,[],25783,[],Muhammadu Buhari,136467,3276219,1\\n@Macky_Sall,2796,1377585,171,95935,0.8,2010-10-01 17:05:26,12,\"[\\'ConseildesMinistresSn\\', \\'ConseildesMinistresSn\\', \\'ConseildesMinistresSn\\', \\'ConseildesMinistresSn\\', \\'IGE\\', \\'diaspora\\', \\'Covid19sn\\', \\'ConseildesMinistresSn\\', \\'ConseildesMinistresSn\\', \\'ConseildesMinistresSn\\', \\'nicolassarkozy\\', \\'ConseilDesMinistresSn\\', \\'ConseilDesMinistresSn\\', \\'ConseilDesMinistresSn\\', \\'ConseilDesMinistresSn\\', \\'ConseilDesMinistresSn\\', \\'MessageNationSn\\']\",12810,\"[\\'ConseildesMinistresSn\\', \\'ConseilDesMinistresSn\\', \\'IGE\\', \\'diaspora\\', \\'Covid19sn\\']\",Macky Sall,108745,1377414,12\\n@PresidentBio,83,15093,0,39708,0.1,2018-04-09 06:23:00,4,\"[\\'SierraLeone\\', \\'SierraLeone\\', \\'COVID19\\', \\'DPGAlliance\\']\",6614,\"[\\'SierraLeone\\', \\'COVID19\\', \\'DPGAlliance\\']\",President Julius Maada Bio,46322,15093,4\\n@MSPS_Togo,44,1134,2,218,0.0,2016-02-16 17:12:25,1,[],103,[],Ministère de la Santé et de l\\'hygiène Publique,321,1132,1\\n'"
            ]
          },
          "metadata": {
            "tags": []
          },
          "execution_count": 106
        }
      ]
    },
    {
      "cell_type": "code",
      "metadata": {
        "id": "E0IvJ4mOQrln",
        "colab_type": "code",
        "colab": {
          "base_uri": "https://localhost:8080/",
          "height": 160
        },
        "outputId": "c9a8983b-2855-4385-dd84-7a3a87f088ab"
      },
      "source": [
        "africa_influencers_df.to_csv(index=False)"
      ],
      "execution_count": 107,
      "outputs": [
        {
          "output_type": "execute_result",
          "data": {
            "application/vnd.google.colaboratory.intrinsic": {
              "type": "string"
            },
            "text/plain": [
              "'twitter_handle,total_tweets_number,followers,following,total_tweets_likes,average_tweets_per_day,handle_creation_date,number_of_mentions,hashtags,number_of_retweets,twitter_names,popularity_score,reach_score,relevance_score,most_used_hashtags\\n@gettleman,3773.0,25709.0,37.0,10183.0,1.1,2011-05-25 17:49:42,39.0,\"[\\'COVID19\\', \\'PLA\\', \\'IndianArmy\\', \\'COVID19\\']\",3952.0,Jeffrey Gettleman,14135.0,25672.0,39.0,\"[\\'COVID19\\', \\'PLA\\', \\'IndianArmy\\']\"\\n@andiMakinana,142268.0,101329.0,2841.0,1674.0,35.8,2009-09-06 10:53:07,39.0,\"[\\'SchoolRun\\', \\'UDM\\']\",605.0,Scapegoat,2279.0,98488.0,39.0,\"[\\'SchoolRun\\', \\'UDM\\']\"\\n@AfricaCheck,27343.0,68071.0,4590.0,396.0,9.3,2012-07-03 11:34:29,32.0,\"[\\'factcheck\\', \\'African\\', \\'Covid\\', \\'miniquiz\\', \\'African\\', \\'SouthAfrica\\', \\'COVID19\\', \\'Kenya\\', \\'Nigeria\\', \\'COVID19\\', \\'Nigeria\\', \\'COVID19\\', \\'SouthAfrica\\', \\'scams\\', \\'SouthAfrican\\', \\'COVID19\\', \\'African\\']\",454.0,Africa Check,850.0,63481.0,32.0,\"[\\'COVID19\\', \\'African\\', \\'SouthAfrica\\', \\'Nigeria\\', \\'factcheck\\']\"\\n@JamesCopnall,19439.0,21966.0,5048.0,572.0,6.1,2011-10-30 17:32:39,46.0,\"[\\'Sudan\\', \\'Sudan\\', \\'Malawi\\', \\'BBCFocusOnAfrica\\', \\'Newsday\\', \\'Brazil\\']\",70.0,James Copnall,642.0,16918.0,46.0,\"[\\'Sudan\\', \\'Malawi\\', \\'BBCFocusOnAfrica\\', \\'Newsday\\', \\'Brazil\\']\"\\n@oafrica,6864.0,31289.0,2876.0,121.0,1.7,2009-08-13 17:13:41,1.0,[],225.0,Online Africa,346.0,28413.0,1.0,[]\\n@PatrickNgowi,1638.0,22798.0,179.0,2165.0,0.6,2012-12-12 11:35:01,2.0,[],1316.0,Patrick Ngowi,3481.0,22619.0,2.0,[]\\n@StateAfrica,1.0,8.0,0.0,1.0,0.0,2017-06-12 09:53:56,0.0,[],0.0,SEO Expert Vancouver,1.0,8.0,0.0,[]\\n@Moadow,21549.0,50999.0,1731.0,2606.0,5.2,2009-04-14 08:10:59,34.0,\"[\\'COVID19\\', \\'Kenya\\', \\'Covid\\', \\'Somalia\\', \\'Covid\\']\",1170.0,Mohammed Adow,3776.0,49268.0,34.0,\"[\\'Covid\\', \\'COVID19\\', \\'Kenya\\', \\'Somalia\\']\"\\n@BrendanSAfrica,3892.0,28456.0,366.0,543.0,0.9,2009-01-23 17:02:49,0.0,[],197.0,Brendan Boyle,740.0,28090.0,0.0,[]\\n@CityTshwane,81244.0,439514.0,2927.0,1528.0,21.9,2010-05-28 08:34:35,12.0,\"[\\'Covid_19SA\\', \\'WhatsApp\\', \\'COVID19\\', \\'COVID19\\', \\'COVID19\\', \\'COVID19\\', \\'COVID19\\', \\'COVID19\\', \\'COVID19\\', \\'StayAtHome\\', \\'Covid19inSA\\', \\'FlattenTheCurve\\', \\'StaySafe\\', \\'SaveLives\\', \\'TshwaneEmergencyNumber\\', \\'cabletheft\\', \\'COVID19\\', \\'PlayYourPart\\', \\'COVID19SA\\', \\'GAUTENGCOVID19\\', \\'ReminderWaterSupplyInterruption\\', \\'ReminderWaterSupplyInterruption\\', \\'COVID19\\', \\'COVID19\\', \\'COVID19\\']\",388.0,City of Tshwane,1916.0,436587.0,12.0,\"[\\'COVID19\\', \\'ReminderWaterSupplyInterruption\\', \\'Covid_19SA\\', \\'WhatsApp\\', \\'StayAtHome\\']\"\\n@VISI_Mag,16893.0,52895.0,1818.0,475.0,4.2,2009-08-31 14:45:27,21.0,[\\'MandelaDay\\'],163.0,VISI Magazine,638.0,51077.0,21.0,[\\'MandelaDay\\']\\n@ThisIsAfricaTIA,23991.0,46777.0,2138.0,694.0,5.9,2009-07-01 14:19:28,1.0,[\\'DayoftheAfricanChild\\'],404.0,This Is Africa,1098.0,44639.0,1.0,[\\'DayoftheAfricanChild\\']\\n@sarzss,2166.0,11926.0,894.0,328.0,0.6,2010-11-11 08:57:03,8.0,\"[\\'lockdown\\', \\'COVID19\\', \\'coronavirus\\', \\'Covid_19\\']\",208.0,Sarah Carter,536.0,11032.0,8.0,\"[\\'lockdown\\', \\'COVID19\\', \\'coronavirus\\', \\'Covid_19\\']\"\\n@TheEIU_Africa,2523.0,24871.0,294.0,282.0,0.7,2010-02-17 16:58:52,8.0,\"[\\'Mali\\', \\'SSA\\', \\'Malawi\\', \\'Zimbabwe\\', \\'Malawi\\']\",308.0,The EIU Africa team,590.0,24577.0,8.0,\"[\\'Malawi\\', \\'Mali\\', \\'SSA\\', \\'Zimbabwe\\']\"\\n@InvestInAfrica,2814.0,49706.0,172.0,390.0,0.7,2008-09-15 20:52:05,1.0,[],265.0,Investing In Africa,655.0,49534.0,1.0,[]\\n@malonebarry,35293.0,28571.0,2988.0,4482.0,8.4,2009-01-08 04:27:43,16.0,[],2167.0,Barry Malone,6649.0,25583.0,16.0,[]\\n@artsouthafrica,23.0,117.0,132.0,8.0,0.0,2016-06-01 09:24:54,0.0,\"[\\'Art\\', \\'ArtistOfTheMonthASA\\', \\'ArtSouthAfrica\\', \\'LoveOfArt\\', \\'Painting\\', \\'Inspiration\\', \\'Retweet\\', \\'Creativity\\']\",4.0,ArtSouthAfrica,12.0,-15.0,0.0,\"[\\'Art\\', \\'ArtistOfTheMonthASA\\', \\'ArtSouthAfrica\\', \\'LoveOfArt\\', \\'Painting\\']\"\\n@KahnMorbee,4992.0,17441.0,425.0,701.0,1.2,2009-01-29 16:18:58,2.0,\"[\\'BoxOffice\\', \\'meatfreemonday\\']\",88.0,Kahn Morbee,789.0,17016.0,2.0,\"[\\'BoxOffice\\', \\'meatfreemonday\\']\"\\n@JamalMOsman,13512.0,93973.0,660.0,2109.0,3.8,2010-10-31 18:47:36,27.0,\"[\\'Africa\\', \\'Chinese\\', \\'Malawi\\', \\'Thread\\', \\'Ethiopia\\', \\'Egypt\\', \\'Somalia\\', \\'Mogadishu\\', \\'African\\', \\'Britain\\', \\'America\\', \\'Ethiopia\\']\",965.0,Jamal Osman,3074.0,93313.0,27.0,\"[\\'Ethiopia\\', \\'Africa\\', \\'Chinese\\', \\'Malawi\\', \\'Thread\\']\"\\n@iamsuede,88730.0,18231.0,2254.0,243.0,21.4,2009-03-23 05:05:51,23.0,\"[\\'TheNod\\', \\'DefundThePolice\\', \\'PVALLEYPremiere\\', \\'PVALLEYPremiere\\', \\'REDTABLETALK\\', \\'WillSmith\\', \\'JadaSmith\\', \\'AugustAlsina\\', \\'soaugust\\', \\'redtabletalk\\', \\'SoAugust\\', \\'Sexologywithshan\\', \\'RootsPicnic\\', \\'RootsPicnic\\']\",43.0,iamsuede™,286.0,15977.0,23.0,\"[\\'PVALLEYPremiere\\', \\'RootsPicnic\\', \\'TheNod\\', \\'DefundThePolice\\', \\'REDTABLETALK\\']\"\\n@mikestopforth,42980.0,21363.0,813.0,254.0,8.8,2007-03-07 17:29:47,32.0,[],50.0,Mike Stopforth,304.0,20550.0,32.0,[]\\n@equal_education,26818.0,62345.0,754.0,892.0,7.3,2010-06-19 10:06:48,32.0,\"[\\'SafeSpecialSchools\\', \\'LeftBehindAgain\\', \\'CHWs\\', \\'NSNP\\']\",579.0,Equal Education,1471.0,61591.0,32.0,\"[\\'SafeSpecialSchools\\', \\'LeftBehindAgain\\', \\'CHWs\\', \\'NSNP\\']\"\\n@t_mcconnell,15627.0,18500.0,940.0,916.0,5.0,2011-11-30 10:13:50,5.0,[\\'Kenya\\'],574.0,Tristan McConnell,1490.0,17560.0,5.0,[\\'Kenya\\']\\n@forbeesta,9575.0,19994.0,3602.0,419.0,2.3,2009-01-11 12:23:42,9.0,[\\'JusticeForToyin\\'],165.0,Kate Forbes,584.0,16392.0,9.0,[\\'JusticeForToyin\\']\\n@jaxpanik,15410.0,7486.0,15.0,134.0,3.4,2007-12-31 01:15:45,1.0,[],14.0,Jax Panik,148.0,7471.0,1.0,[]\\n@thisisafrica,0.0,6.0,0.0,0.0,0.0,2019-05-04 16:06:24,0.0,[],0.0,T.I.A,0.0,6.0,0.0,[]\\n@audisouthafrica,23011.0,215468.0,1155.0,2261.0,6.4,2010-08-23 13:12:27,38.0,\"[\\'audisouthafrica\\', \\'audiQ3\\', \\'Q3\\', \\'Vorsprung\\', \\'audisouthafrica\\', \\'audiQ3\\', \\'Q3\\', \\'MandelaDay2020\\', \\'audisouthafrica\\', \\'audiA6\\']\",381.0,audisouthafrica,2642.0,214313.0,38.0,\"[\\'audisouthafrica\\', \\'audiQ3\\', \\'Q3\\', \\'Vorsprung\\', \\'MandelaDay2020\\']\"\\n@ONEinAfrica,7593.0,232806.0,89596.0,2964.0,2.4,2011-09-19 14:08:39,53.0,\"[\\'ONEActivists\\', \\'COVID19\\', \\'COVID19\\', \\'COVID19\\', \\'MandelaDay\\', \\'ONEAfricaAward\\', \\'SDGs\\', \\'COVID19\\']\",1298.0,ONE in Africa,4262.0,143210.0,53.0,\"[\\'COVID19\\', \\'ONEActivists\\', \\'MandelaDay\\', \\'ONEAfricaAward\\', \\'SDGs\\']\"\\n@Hamza_Africa,17752.0,98724.0,220.0,2697.0,4.6,2010-01-27 04:41:45,17.0,\"[\\'Mali\\', \\'Ethiopia\\']\",1062.0,Hamza Mohamed,3759.0,98504.0,17.0,\"[\\'Mali\\', \\'Ethiopia\\']\"\\n@africatechie,101373.0,106188.0,1644.0,1204.0,26.5,2010-01-23 16:33:53,108.0,\"[\\'Numérique\\', \\'Camerounaise\\', \\'LeDebriefTV\\']\",310.0,Rebecca Enonchong,1514.0,104544.0,108.0,\"[\\'Numérique\\', \\'Camerounaise\\', \\'LeDebriefTV\\']\"\\n@cx73,4986.0,70742.0,49691.0,1049.0,1.3,2010-05-10 19:42:53,1.0,\"[\\'Knysna\\', \\'LakeBrenton\\', \\'J\\', \\'KabeljauwsRiver\\', \\'Sunrise\\', \\'EasternCape\\', \\'TrailRun\\', \\'Goukamma\\', \\'TrailRun\\', \\'Brenton\\', \\'BuffelsBaai\\', \\'RedBridge\\', \\'Knysna\\', \\'Knysna\\', \\'ForestMarathon\\', \\'LakeBrenton\\', \\'Knysna\\', \\'OysterFestival\\', \\'Run\\', \\'KabeljauwsBeach\\', \\'Surf\\', \\'Supertubes\\', \\'JeffreysBay\\', \\'EasternCape\\', \\'LakeBrenton\\']\",84.0,marais,1133.0,21051.0,1.0,\"[\\'Knysna\\', \\'LakeBrenton\\', \\'EasternCape\\', \\'TrailRun\\', \\'J\\']\"\\n@ayittey,12794.0,17117.0,151.0,945.0,3.1,2009-04-08 23:27:30,4.0,\"[\\'Mandela\\', \\'Coconutiacosm\\']\",366.0,George Ayittey,1311.0,16966.0,4.0,\"[\\'Mandela\\', \\'Coconutiacosm\\']\"\\n@MercedesBenz_SA,15756.0,250032.0,2415.0,595.0,4.2,2010-04-15 09:31:16,17.0,\"[\\'C63\\', \\'C63S\\', \\'DrivingPerformance\\', \\'AMG\\']\",125.0,Mercedes-Benz SA,720.0,247617.0,17.0,\"[\\'C63\\', \\'C63S\\', \\'DrivingPerformance\\', \\'AMG\\']\"\\n@africagathering,8771.0,48964.0,653.0,203.0,2.1,2009-01-20 10:01:21,0.0,[\\'COVID19\\'],189.0,Africa Gathering,392.0,48311.0,0.0,[\\'COVID19\\']\\n@okayafrica,45469.0,105256.0,1918.0,4908.0,11.7,2009-11-23 23:51:39,18.0,\"[\\'BlackIsKing\\', \\'DontLeaveMeChallenge\\']\",1267.0,OkayAfrica,6175.0,103338.0,18.0,\"[\\'BlackIsKing\\', \\'DontLeaveMeChallenge\\']\"\\n@mary_harper,7187.0,58235.0,1980.0,1079.0,1.8,2009-06-04 16:43:39,48.0,\"[\\'Mogadishu\\', \\'alshabaab\\', \\'AccessToLeaders\\', \\'Ethiopia\\', \\'BeyondAcademia\\', \\'coronavirus\\', \\'Somalia\\', \\'Ethiopian\\']\",463.0,Mary Harper,1542.0,56255.0,48.0,\"[\\'Mogadishu\\', \\'alshabaab\\', \\'AccessToLeaders\\', \\'Ethiopia\\', \\'BeyondAcademia\\']\"\\n@savetherhino,35795.0,80356.0,983.0,4258.0,8.8,2009-05-21 11:55:15,16.0,\"[\\'COVID19\\', \\'rhinofilmclub\\']\",1257.0,Save the Rhino,5515.0,79373.0,16.0,\"[\\'COVID19\\', \\'rhinofilmclub\\']\"\\n@africamedia_CPJ,35.0,487.0,0.0,0.0,0.0,2009-06-15 22:23:14,1.0,[\\'pressfreedom\\'],1.0,Africa Team,1.0,487.0,1.0,[\\'pressfreedom\\']\\n@TechCentral,18391.0,81658.0,1904.0,118.0,4.4,2009-02-02 18:14:26,1.0,[],89.0,TechCentral,207.0,79754.0,1.0,[]\\n@GautengProvince,33469.0,217394.0,3122.0,4872.0,10.2,2011-07-13 16:00:41,17.0,\"[\\'COVID19\\', \\'PlayYourPart\\', \\'COVID19SA\\', \\'GAUTENGCOVID19\\', \\'COVID19\\', \\'PlayYourPart\\', \\'COVID19SA\\', \\'GAUTENGCOVID19\\', \\'COVID19\\', \\'COVID19\\', \\'PlayYourPart\\', \\'COVID19SA\\', \\'GAUTENGCOVID19\\', \\'GDE2021OnlineAdmissions\\', \\'COVID19\\', \\'PlayYourPart\\', \\'COVID19SA\\', \\'GAUTENGCOVID19\\', \\'COVID19\\', \\'COVID19\\', \\'COVID19\\', \\'PlayYourPart\\', \\'GAUTENGCOVID19\\', \\'COVID19SA\\', \\'COVID__19\\', \\'COVID19\\', \\'COVID19\\', \\'COVID19\\', \\'COVID19\\', \\'COVID19\\', \\'COVIDConnect\\', \\'COVID19\\', \\'COVIDConnect\\', \\'10DaysIsolation\\', \\'COVIDConnect\\', \\'COVID19\\', \\'GautengReliefFund\\', \\'COVID19\\', \\'COVID19\\', \\'Masuku\\', \\'COVID19\\', \\'Masuku\\', \\'COVID19\\', \\'Masuku\\', \\'COVID19\\', \\'Masuku\\', \\'COVID19\\', \\'Masuku\\', \\'COVID19\\', \\'Masuku\\', \\'Lesufi\\']\",2947.0,GautengGov,7819.0,214272.0,17.0,\"[\\'COVID19\\', \\'Masuku\\', \\'PlayYourPart\\', \\'COVID19SA\\', \\'GAUTENGCOVID19\\']\"\\n@Aynte,14518.0,192609.0,1347.0,5086.0,3.5,2009-04-27 07:37:20,35.0,\"[\\'Somalia\\', \\'johnlewis\\', \\'Somalia\\']\",819.0,Abdi Aynte,5905.0,191262.0,35.0,\"[\\'Somalia\\', \\'johnlewis\\']\"\\n@rangerdiaries,3906.0,20448.0,4613.0,1632.0,1.1,2010-09-28 14:56:14,0.0,[],755.0,Ranger Diaries,2387.0,15835.0,0.0,[]\\n@TheStar_news,48629.0,191480.0,405.0,135.0,14.2,2011-03-16 08:45:41,2.0,\"[\\'TheStarNews\\', \\'CityPower\\', \\'RIPKaundaNtunja\\', \\'TheStarNews\\', \\'RIPKaundaNtunja\\', \\'TheStarNews\\', \\'ElizeCawood\\', \\'MoonyeennLee\\', \\'TheStarNews\\', \\'RIPMoonyeennLee\\', \\'RIPElizeCawood\\', \\'JMPD\\']\",80.0,The Star,215.0,191075.0,2.0,\"[\\'TheStarNews\\', \\'RIPKaundaNtunja\\', \\'CityPower\\', \\'ElizeCawood\\', \\'MoonyeennLee\\']\"\\n@schneiderhome,32747.0,26432.0,1012.0,9464.0,9.3,2010-11-12 12:22:14,23.0,\"[\\'ourNHS\\', \\'GreenNewDeal\\', \\'StrikeForBlackLives\\']\",2695.0,James Schneider,12159.0,25420.0,23.0,\"[\\'ourNHS\\', \\'GreenNewDeal\\', \\'StrikeForBlackLives\\']\"\\n@theafricareport,15914.0,165835.0,1142.0,416.0,3.8,2008-12-10 11:24:06,34.0,\"[\\'Cameroon\\', \\'Fulani\\', \\'COVIDー19\\', \\'Africa\\', \\'Germany\\', \\'Mali\\', \\'Morocco\\', \\'COVIDー19\\', \\'Africa\\', \\'Tshisekedi\\', \\'Kabila\\', \\'US\\', \\'COVID19\\', \\'Morocco\\', \\'Moroccan\\', \\'Kabila\\', \\'Mali\\', \\'Morocco\\', \\'Crisis\\', \\'Sahel\\', \\'COVIDー19\\', \\'Africa\\', \\'Tshisekedi\\', \\'Kabila\\', \\'Ouattara\\', \\'CôtedIvoire\\', \\'Ouattara\\', \\'CôtedIvoire\\', \\'Ouattara\\', \\'CôtedIvoire\\']\",278.0,The Africa Report,694.0,164693.0,34.0,\"[\\'COVIDー19\\', \\'Africa\\', \\'Morocco\\', \\'Kabila\\', \\'Ouattara\\']\"\\n@CityofJoburgZA,265524.0,1002986.0,61959.0,373.0,86.8,2012-03-07 07:05:58,27.0,\"[\\'HlapaMatsoho\\', \\'JoburgEnterprises\\', \\'JoburgBudget20\\', \\'JoburgBudget20\\', \\'JoburgBudget20\\', \\'JoburgBudget20\\', \\'JoburgBudget20\\', \\'JoburgBudget\\', \\'COVID19\\', \\'PlayYourPart\\', \\'COVID19SA\\', \\'GAUTENGCOVID19\\', \\'JohnWare\\', \\'JoburgBudget20\\', \\'NelsonMandela\\', \\'JoburgIDP20\\']\",167.0,City of Joburg,540.0,941027.0,27.0,\"[\\'JoburgBudget20\\', \\'HlapaMatsoho\\', \\'JoburgEnterprises\\', \\'JoburgBudget\\', \\'COVID19\\']\"\\n@ThinkAfricaFeed,16251.0,48246.0,1114.0,183.0,4.6,2010-12-21 16:12:50,2.0,[],388.0,Think Africa Press,571.0,47132.0,2.0,[]\\n@AfricaGoodNews,11100.0,50107.0,757.0,6.0,2.7,2009-05-13 07:18:36,28.0,\"[\\'COVID19\\', \\'africa\\', \\'SDGs\\', \\'Africa\\', \\'COVID\\', \\'Tanzanian\\', \\'JoburgEnterprises\\', \\'health\\', \\'Tanzania\\', \\'startup\\', \\'entrepreneur\\', \\'Africa\\', \\'WBGFellowship\\']\",4.0,Africa The Good News,10.0,49350.0,28.0,\"[\\'Africa\\', \\'COVID19\\', \\'africa\\', \\'SDGs\\', \\'COVID\\']\"\\n@willintune,8562.0,18651.0,1488.0,659.0,2.4,2010-11-24 17:37:13,19.0,[\\'MandelaDay\\'],401.0,will ross,1060.0,17163.0,19.0,[\\'MandelaDay\\']\\n@cnbcafrica,91604.0,240676.0,657.0,229.0,22.8,2009-07-16 13:52:16,10.0,\"[\\'COVID19\\', \\'CNBCAfrica\\', \\'CNBCConversation\\', \\'CNBCAfrica\\', \\'CNBCAfrica\\', \\'CNBCAfrica\\', \\'CNBCAfrica\\', \\'CNBCAfrica\\', \\'CNBCAfrica\\', \\'CNBCAfrica\\', \\'CNBCAfrica\\', \\'CNBCAfrica\\', \\'CNBCAfrica\\', \\'CNBCAfrica\\', \\'CNBCAfrica\\', \\'CNBCAfrica\\', \\'CNBCAfrica\\', \\'CNBCAfrica\\', \\'CNBCAfrica\\', \\'CNBCAfrica\\', \\'CNBCAfrica\\', \\'CNBCAfrica\\', \\'CNBCAfrica\\', \\'CNBCAfrica\\', \\'Covid19\\', \\'CNBCAfrica\\', \\'Covid19\\', \\'CNBCAfrica\\', \\'Covid19\\', \\'CNBCAfrica\\', \\'Covid19\\', \\'CNBCAfrica\\', \\'CNBCAfrica\\']\",145.0,CNBC Africa,374.0,240019.0,10.0,\"[\\'CNBCAfrica\\', \\'Covid19\\', \\'COVID19\\', \\'CNBCConversation\\']\"\\n@MadeItInAfrica,30385.0,105680.0,391.0,689.0,8.1,2010-03-29 19:48:33,7.0,\"[\\'COVID19\\', \\'Senegal\\', \\'Nigeria\\', \\'Uganda\\', \\'Nigeria\\', \\'Ethiopia\\', \\'Uganda\\', \\'DRC\\', \\'Tanzanian\\', \\'Uganda\\', \\'COVID19\\', \\'Nairobi\\', \\'Ethiopia\\', \\'Ghanaians\\', \\'Gabon\\']\",325.0,HowWeMadeItInAfrica,1014.0,105289.0,7.0,\"[\\'Uganda\\', \\'COVID19\\', \\'Nigeria\\', \\'Ethiopia\\', \\'Senegal\\']\"\\n@AfricaResearch,23206.0,88531.0,1940.0,350.0,6.7,2011-01-11 14:04:23,20.0,\"[\\'Somalia\\', \\'Mozambique\\', \\'Cameroon\\', \\'urban\\', \\'Zimbabwe\\', \\'urban\\', \\'land\\', \\'Masvingo\\', \\'Zimbabwe\\']\",249.0,Africa Research Inst,599.0,86591.0,20.0,\"[\\'urban\\', \\'Zimbabwe\\', \\'Somalia\\', \\'Mozambique\\', \\'Cameroon\\']\"\\n@FoodBlogCT,137316.0,84538.0,25636.0,84.0,35.9,2010-01-30 12:59:28,25.0,\"[\\'AubergineCapeTown\\', \\'Shrew\\', \\'ShrewedShopper\\', \\'CaughtOnline\\', \\'EnthusiastBeanKit\\', \\'Shrew\\', \\'ShrewedShopper\\', \\'CaughtOnline\\']\",14.0,FoodBlog Cape Town,98.0,58902.0,25.0,\"[\\'Shrew\\', \\'ShrewedShopper\\', \\'CaughtOnline\\', \\'AubergineCapeTown\\', \\'EnthusiastBeanKit\\']\"\\n@MbuyiseniNdlozi,36056.0,1081535.0,5471.0,245274.0,11.6,2012-01-04 14:28:42,31.0,\"[\\'EFFTurns7\\', \\'EFFTurns7\\', \\'Covid_19\\', \\'COVID19\\', \\'BREAKING\\', \\'COVID19\\']\",40223.0,Mbuyiseni Ndlozi,285497.0,1076064.0,31.0,\"[\\'EFFTurns7\\', \\'COVID19\\', \\'Covid_19\\', \\'BREAKING\\']\"\\n@africaprogress,10665.0,56238.0,3166.0,858.0,3.2,2011-05-03 15:59:50,1.0,[],559.0,AfricaProgressPanel,1417.0,53072.0,1.0,[]\\n@IFCAfrica,8899.0,127368.0,1545.0,715.0,2.4,2010-05-04 08:36:50,21.0,\"[\\'Senegal\\', \\'COVID19\\', \\'SMEs\\', \\'COVID19\\', \\'Nigerians\\', \\'MandelaDay\\', \\'Kenya\\', \\'HousingFinance\\', \\'Ghana\\', \\'Nairobi\\', \\'IFCHerHome\\', \\'Nigeria\\', \\'WorldYouthSkillsDay\\', \\'COVID19\\', \\'Africa\\', \\'CôtedIvoire\\', \\'COVID19\\', \\'TFWA\\', \\'CôtedIvoire\\', \\'Nairobi\\', \\'IFCHerHome\\', \\'FinancialInstitutions\\', \\'HousingFinance\\', \\'COVID19\\', \\'TradeFinance\\', \\'COVID19\\']\",354.0,IFC Africa,1069.0,125823.0,21.0,\"[\\'COVID19\\', \\'HousingFinance\\', \\'Nairobi\\', \\'IFCHerHome\\', \\'CôtedIvoire\\']\"\\n@HenleyAfrica,38401.0,143190.0,74104.0,327.0,12.0,2011-10-17 06:39:28,34.0,\"[\\'Vision\\', \\'Creative\\', \\'SelfMastery\\', \\'HenleyBusinessSchool\\', \\'QOTD\\', \\'BreakTheMould\\', \\'ColourInOutsideTheLines\\', \\'Business\\', \\'Life\\', \\'mandeladay\\', \\'NelsonMandela\\', \\'WorldEmojiDay2020\\', \\'Leadership\\', \\'WorldEmojiDay\\', \\'Emojis\\', \\'Leadership\\', \\'Wisdom\\', \\'BookShelf\\', \\'Management\\', \\'Development\\', \\'Skills\\', \\'Management\\', \\'Leadership\\', \\'Effectiveness\\', \\'StoriesofAfrica\\']\",127.0,Henley Africa,454.0,69086.0,34.0,\"[\\'Leadership\\', \\'Management\\', \\'Vision\\', \\'Creative\\', \\'SelfMastery\\']\"\\n@geoffreyyork,53815.0,285589.0,10842.0,1372.0,13.2,2009-05-27 19:30:42,31.0,\"[\\'PeoplesVaccine\\', \\'Kenya\\', \\'WTO\\', \\'BREAKING\\', \\'COVID19\\', \\'COVID__19\\', \\'COVID19\\']\",734.0,Geoffrey York,2106.0,274747.0,31.0,\"[\\'COVID19\\', \\'PeoplesVaccine\\', \\'Kenya\\', \\'WTO\\', \\'BREAKING\\']\"\\n@Entrepreneur_SA,117.0,131.0,141.0,83.0,0.1,2017-03-02 15:05:55,0.0,[],69.0,#Entrepreneurship #Solutions,152.0,-10.0,0.0,[]\\n@forbesafrica,9298.0,216071.0,128.0,565.0,2.8,2011-04-18 15:18:58,13.0,\"[\\'CNBCAfrica\\', \\'CNBCAfrica\\', \\'Madagascar\\']\",213.0,Forbes Africa,778.0,215943.0,13.0,\"[\\'CNBCAfrica\\', \\'Madagascar\\']\"\\n@IECSouthAfrica,23704.0,220933.0,11.0,494.0,6.9,2011-02-04 12:44:49,13.0,\"[\\'COVID19SA\\', \\'ConCourt\\', \\'FakeNewsAlert\\', \\'Level3Restrictions\\', \\'Level3Regulations\\', \\'Covid19SA\\', \\'staysafe\\', \\'IEC\\']\",319.0,IEC South Africa,813.0,220922.0,13.0,\"[\\'COVID19SA\\', \\'ConCourt\\', \\'FakeNewsAlert\\', \\'Level3Restrictions\\', \\'Level3Regulations\\']\"\\n@art2gee,13353.0,59204.0,3345.0,973.0,3.1,2008-09-08 13:51:01,51.0,\"[\\'5G\\', \\'BitcoinScam\\', \\'digitalisation\\', \\'ScienceAtWork\\', \\'WomenInScience\\', \\'DigitalTransformation\\', \\'nextatacer\\']\",231.0,Arthur Goldstuck,1204.0,55859.0,51.0,\"[\\'5G\\', \\'BitcoinScam\\', \\'digitalisation\\', \\'ScienceAtWork\\', \\'WomenInScience\\']\"\\n@JendayiFrazer,3118.0,29958.0,479.0,10.0,0.9,2011-04-11 00:13:17,7.0,[\\'CMUAfrica\\'],3.0,Jendayi E Frazer,13.0,29479.0,7.0,[\\'CMUAfrica\\']\\n@PeterGreste,14758.0,51829.0,987.0,3343.0,3.7,2009-08-09 09:22:50,36.0,\"[\\'PressFreedom\\', \\'journalismisnotacrime\\', \\'PerspectivesAsia\\', \\'abc730\\', \\'CourageON\\', \\'HoldTheLine\\', \\'HoldTheLine\\', \\'abcAM\\', \\'ABC\\', \\'Ausmedia\\', \\'APAC\\']\",1530.0,Peter Greste,4873.0,50842.0,36.0,\"[\\'HoldTheLine\\', \\'PressFreedom\\', \\'journalismisnotacrime\\', \\'PerspectivesAsia\\', \\'abc730\\']\"\\n@NDOCKenya,3246.0,152018.0,561.0,760.0,1.0,2011-04-28 10:43:39,12.0,[\\'DesertLocust\\'],772.0,Disaster Operations,1532.0,151457.0,12.0,[\\'DesertLocust\\']\\n@Mo_IbrahimFdn,11277.0,114532.0,1641.0,1683.0,3.3,2011-03-24 17:00:56,27.0,\"[\\'COVID19\\', \\'COVID19\\', \\'NowGeneration\\', \\'pandemic\\', \\'health\\', \\'COVID19\\', \\'NowGeneration\\', \\'MIFBoard\\', \\'MIFPrize\\', \\'COVID19\\', \\'COVID19\\', \\'WorldPopulationDay\\', \\'COVID19\\', \\'COVID19\\', \\'ReLaunchingAfrica\\']\",557.0,Mo Ibrahim Foundation,2240.0,112891.0,27.0,\"[\\'COVID19\\', \\'NowGeneration\\', \\'pandemic\\', \\'health\\', \\'MIFBoard\\']\"\\n@ParliamentofRSA,27269.0,673897.0,2205.0,304.0,8.7,2011-12-06 07:40:44,0.0,\"[\\'BudgetVotes2020\\', \\'Parliament\\', \\'NATIONALASSEMBLY\\', \\'NCOP\\', \\'PARLIAMENT\\', \\'PARLIAMENT\\', \\'COVID19\\', \\'Zlist\\', \\'Zlist\\', \\'Parliament\\', \\'PCHomeAffairs\\', \\'MandelaDay\\', \\'MandelaDay\\', \\'MandelaDay\\', \\'MandelaDay\\', \\'MandelaDay\\', \\'MandelaDay\\', \\'MandelaDay\\']\",173.0,Parliament of RSA,477.0,671692.0,0.0,\"[\\'MandelaDay\\', \\'Parliament\\', \\'PARLIAMENT\\', \\'Zlist\\', \\'BudgetVotes2020\\']\"\\n@SandtonCity,14691.0,56866.0,985.0,243.0,3.6,2009-06-18 19:15:10,17.0,\"[\\'AnnualSale\\', \\'MiMask\\', \\'CreateTomorrow\\', \\'CreateTomorrow\\', \\'iStore\\', \\'BladesandTriggers\\', \\'Exact\\', \\'Witchery\\', \\'IconicSandton\\', \\'BuildTomorrowTogether\\', \\'MandelaDay2020\\', \\'IconicSandton\\', \\'BellaLuna\\', \\'CreateTomorrow\\']\",41.0,Sandton City,284.0,55881.0,17.0,\"[\\'CreateTomorrow\\', \\'IconicSandton\\', \\'AnnualSale\\', \\'MiMask\\', \\'iStore\\']\"\\n@_AfricanUnion,9266.0,542073.0,186.0,3799.0,2.5,2010-05-20 06:48:25,12.0,\"[\\'AUTender\\', \\'AUProcurement\\', \\'AUTender\\', \\'AUProcurement\\', \\'youth\\', \\'TheAfricawewant\\', \\'Agenda2063\\', \\'1mby2021\\', \\'africaine\\', \\'Corruption\\', \\'AfricaAgainstCorruption\\', \\'AUEUMeetUp\\', \\'1mBy2021\\', \\'AfricaIntegrationDay\\', \\'1mby2021\\', \\'AUEUMeetUp\\', \\'1mby2021\\', \\'AUEUMeetUp\\', \\'1mby2021\\', \\'AUEUMeetUp\\', \\'1mby2021\\', \\'AUEUMeetUp\\', \\'1mby2021\\', \\'AUEUMeetUp\\', \\'1mby2021\\', \\'AUEUMeetUp\\', \\'1mby2021\\', \\'AUEUMeetUp\\', \\'Climatecahnge\\', \\'AUEUMeetUp\\', \\'1mby2021\\', \\'AUEUMeetUp\\', \\'AUEUMeetUp\\']\",2087.0,African Union,5886.0,541887.0,12.0,\"[\\'AUEUMeetUp\\', \\'1mby2021\\', \\'AUTender\\', \\'AUProcurement\\', \\'youth\\']\"\\n@gertjohan,6476.0,49242.0,305.0,2751.0,1.7,2010-03-03 20:48:49,4.0,[],265.0,Gert-Johan Coetzee,3016.0,48937.0,4.0,[]\\n@SmithInAfrica,1.0,69.0,0.0,0.0,0.0,2015-10-19 23:34:14,2.0,[],1.0,SmithInAfrica,1.0,69.0,2.0,[]\\n@hartleyr,21730.0,35220.0,455.0,495.0,4.6,2007-08-21 10:30:55,28.0,\"[\\'GERD\\', \\'armsdeal\\', \\'SouthAfrica\\', \\'Vietnam\\', \\'coronavirus\\', \\'Lesotho\\', \\'Chakwera\\', \\'Malawi\\', \\'dreams\\']\",260.0,Ray Hartley,755.0,34765.0,28.0,\"[\\'GERD\\', \\'armsdeal\\', \\'SouthAfrica\\', \\'Vietnam\\', \\'coronavirus\\']\"\\n@liveamp,50977.0,938554.0,1617.0,6958.0,12.9,2009-09-22 11:14:33,4.0,[],725.0,Live Amp,7683.0,936937.0,4.0,[]\\n@SamsungSA,23598.0,572364.0,269.0,2400.0,6.3,2010-03-29 09:53:12,33.0,\"[\\'TopEmpowerment\\', \\'SamsungEvent\\', \\'QLEDTVs\\', \\'MandelaDay\\', \\'Samsung\\', \\'Day115ofLockdown\\', \\'StaySafe\\', \\'Day115ofLockdown\\', \\'SamsungStore\\', \\'QLEDTV\\', \\'SisonkeWithGalaxy\\']\",136.0,SamsungSA,2536.0,572095.0,33.0,\"[\\'Day115ofLockdown\\', \\'TopEmpowerment\\', \\'SamsungEvent\\', \\'QLEDTVs\\', \\'MandelaDay\\']\"\\n@BobSkinstad,27827.0,105676.0,2991.0,1062.0,6.7,2009-03-18 14:36:58,47.0,\"[\\'freehopewell\\', \\'Knife10x\\', \\'WhyImATransAlly\\', \\'postsecret\\', \\'beautifulgame\\', \\'wearelucky\\']\",119.0,Bob Skinstad,1181.0,102685.0,47.0,\"[\\'freehopewell\\', \\'Knife10x\\', \\'WhyImATransAlly\\', \\'postsecret\\', \\'beautifulgame\\']\"\\n@Camfed,15687.0,183435.0,25598.0,2355.0,3.8,2009-03-09 23:03:10,15.0,\"[\\'MyBetterWorld\\', \\'EducationChangesEverything\\', \\'PhotoOfTheWeek\\', \\'InternationalJusticeDay\\', \\'WhatsYour2040\\', \\'COVID19\\', \\'WorldYouthSkillsDay2020\\', \\'TogetherWeCan\\', \\'TogetherWeCan\\', \\'COVID\\', \\'RebuildBetter\\', \\'SussexSquad\\', \\'COVID19\\', \\'MalalaDay\\']\",612.0,CAMFED - Campaign for Female Education,2967.0,157837.0,15.0,\"[\\'COVID19\\', \\'TogetherWeCan\\', \\'MyBetterWorld\\', \\'EducationChangesEverything\\', \\'PhotoOfTheWeek\\']\"\\n@BBCAndrewH,6.0,7.0,0.0,1.0,0.0,2018-04-27 05:48:52,0.0,[\\'weatherstationlab\\'],0.0,Andrew H,1.0,7.0,0.0,[\\'weatherstationlab\\']\\n@euphonik,4559.0,1756434.0,65.0,30428.0,1.1,2009-02-18 18:36:47,46.0,\"[\\'WorkMode\\', \\'euNITE947\\', \\'Eunite\\', \\'euNITE947\\', \\'euNITE947\\', \\'euNITE947\\', \\'euNITE947\\', \\'euNITE947\\', \\'euNITE947\\', \\'euNITE947\\', \\'euNITE947\\', \\'euNITE947\\', \\'euNITE947\\', \\'euNITE947\\']\",3556.0,Euphonik™♛,33984.0,1756369.0,46.0,\"[\\'euNITE947\\', \\'WorkMode\\', \\'Eunite\\']\"\\n@UlrichJvV,20012.0,1042235.0,530184.0,51363.0,5.1,2009-10-10 07:33:26,41.0,\"[\\'ValuesAndMoney\\', \\'ValuesAndMoney\\', \\'BuildingMyFuture\\', \\'africa\\', \\'SouthAfrica\\', \\'Joburg\\', \\'StretchingMyBudget\\', \\'ValuesAndMoney\\', \\'StretchingMyBudget\\']\",5978.0,Ulrich Janse van Vuuren,57341.0,512051.0,41.0,\"[\\'ValuesAndMoney\\', \\'StretchingMyBudget\\', \\'BuildingMyFuture\\', \\'africa\\', \\'SouthAfrica\\']\"\\n@OfficialCSA,88553.0,1160236.0,1995.0,15945.0,21.8,2009-06-09 14:27:09,31.0,\"[\\'MandelaDay\\', \\'Blacklivesmatter\\', \\'Mandeladay\\', \\'solidaritycup\\', \\'3tcricket\\', \\'3TCricket\\', \\'RainStartsPlay\\', \\'SolidarityCup\\', \\'BlackLivesMatter\\', \\'BlackLivesMatter\\', \\'SolidarityCup\\', \\'3TCricket\\', \\'RainStartsPlay\\', \\'SolidarityCup\\', \\'SolidarityCup\\', \\'3TCricket\\', \\'BlackLivesMatter\\']\",2363.0,Cricket South Africa,18308.0,1158241.0,31.0,\"[\\'SolidarityCup\\', \\'3TCricket\\', \\'BlackLivesMatter\\', \\'RainStartsPlay\\', \\'MandelaDay\\']\"\\n@MTVbaseAfrica,56047.0,1416463.0,109.0,5776.0,13.5,2009-03-23 05:28:57,32.0,\"[\\'MTVBaseLounge\\', \\'MTVBase322\\', \\'StayHome\\', \\'COVID19\\', \\'NMAL2020\\', \\'OneWorld\\', \\'StayHome\\', \\'TBT\\', \\'ThrowbackThursday\\', \\'MTVBaseLounge\\', \\'MTVbaseLounge\\', \\'MTVbaseLounge\\', \\'MTVBaseLounge\\', \\'MTVBaseLounge\\', \\'StayHome\\', \\'TBT\\', \\'ThrowbackThursday\\']\",1081.0,MTV Base Africa,6857.0,1416354.0,32.0,\"[\\'MTVBaseLounge\\', \\'StayHome\\', \\'TBT\\', \\'ThrowbackThursday\\', \\'MTVbaseLounge\\']\"\\n@Computicket,45141.0,200250.0,1225.0,103.0,11.7,2010-01-12 18:12:39,29.0,[],43.0,Computicket,146.0,199025.0,29.0,[]\\n@loyisogola,5694.0,1085331.0,3951.0,3823.0,1.4,2009-04-21 12:53:28,30.0,[\\'FACup\\'],431.0,Loyiso Gola,4254.0,1081380.0,30.0,[\\'FACup\\']\\n@5FM,62879.0,1164489.0,411.0,1617.0,14.6,2008-10-18 15:22:23,62.0,\"[\\'MidMorningsOn5\\', \\'BLACKISKING\\', \\'Day117OfLockdown\\', \\'UnpopularOpinion\\', \\'MidMorningsOn5\\', \\'Day117ofLockdown\\', \\'GoodeMorning\\', \\'Day117ofLockdown\\', \\'TulzOn5\\', \\'Day117ofLockdown\\', \\'InTheMix\\', \\'ForbesAndFix\\', \\'UnpopularOpinion\\', \\'MidMorningsOn5\\', \\'HappyMonday\\', \\'GoodeMix\\', \\'GoodeMorning\\']\",245.0,5FM,1862.0,1164078.0,62.0,\"[\\'MidMorningsOn5\\', \\'Day117ofLockdown\\', \\'UnpopularOpinion\\', \\'GoodeMorning\\', \\'BLACKISKING\\']\"\\n@mailandguardian,144354.0,1060550.0,478.0,784.0,33.6,2008-10-14 07:56:54,19.0,[\\'SafeHands\\'],517.0,Mail & Guardian,1301.0,1060072.0,19.0,[\\'SafeHands\\']\\n@helenzille,72335.0,1443519.0,2302.0,8531.0,17.3,2009-02-10 16:01:34,55.0,[],1743.0,Helen Zille,10274.0,1441217.0,55.0,[]\\n@Julius_S_Malema,37224.0,3132856.0,651.0,372528.0,9.8,2010-02-24 14:58:49,43.0,\"[\\'EFFTurns7\\', \\'JuliusMalema\\', \\'BlackLivesMatter\\', \\'RIPZindziMandela\\', \\'MakhayaNtini\\', \\'COVID19\\']\",82114.0,Julius Sello Malema,454642.0,3132205.0,43.0,\"[\\'EFFTurns7\\', \\'JuliusMalema\\', \\'BlackLivesMatter\\', \\'RIPZindziMandela\\', \\'MakhayaNtini\\']\"\\n@News24,323113.0,3580555.0,632.0,11723.0,72.5,2008-05-08 07:45:58,5.0,[],3468.0,News24,15191.0,3579923.0,5.0,[]\\n@SAPresident,19.0,18.0,14.0,0.0,0.0,2019-03-04 09:59:11,1.0,[],0.0,jdwtweet,0.0,4.0,1.0,[]\\n@GarethCliff,31628.0,1974684.0,356.0,14397.0,7.5,2008-12-08 13:20:23,45.0,\"[\\'CliffCentralApp\\', \\'Lockdown\\', \\'Covid19\\', \\'SoWhatNow\\', \\'MoonyeennLee\\', \\'BlindHistory\\', \\'KnowYourHistory\\', \\'SoWhatNow\\', \\'SoWhatNow\\', \\'SoWhatNow\\', \\'SoWhatNow\\', \\'CliffCentralApp\\', \\'GCS\\', \\'SoWhatNow\\', \\'OneMillionGraves\\', \\'SoWhatNow\\', \\'SoWhatNow\\']\",2878.0,Gareth Cliff,17275.0,1974328.0,45.0,\"[\\'SoWhatNow\\', \\'CliffCentralApp\\', \\'Lockdown\\', \\'Covid19\\', \\'MoonyeennLee\\']\"\\n@Trevornoah,11186.0,10812257.0,325.0,1359545.0,2.8,2009-06-11 07:03:48,11.0,[],272266.0,Trevor Noah,1631811.0,10811932.0,11.0,[]\\n'"
            ]
          },
          "metadata": {
            "tags": []
          },
          "execution_count": 107
        }
      ]
    }
  ]
}